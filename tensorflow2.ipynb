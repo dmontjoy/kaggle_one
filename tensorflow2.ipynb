{
 "cells": [
  {
   "cell_type": "code",
   "execution_count": 36,
   "metadata": {},
   "outputs": [],
   "source": [
    "import math\n",
    "import numpy as np\n",
    "import h5py\n",
    "import matplotlib.pyplot as plt\n",
    "import tensorflow as tf\n",
    "from tensorflow.python.framework import ops\n",
    "\n",
    "%matplotlib inline\n",
    "np.random.seed(1)"
   ]
  },
  {
   "cell_type": "code",
   "execution_count": 41,
   "metadata": {
    "scrolled": true
   },
   "outputs": [
    {
     "name": "stdout",
     "output_type": "stream",
     "text": [
      "39\n",
      "36\n",
      "9\n"
     ]
    }
   ],
   "source": [
    "#session = tf.InteractiveSession()\n",
    "y_hat = tf.constant(36,name='y_hat')\n",
    "y=tf.constant(39,name='y')\n",
    "\n",
    "# se crea la variable que es una ecuación\n",
    "loss = tf.Variable((y-y_hat)**2)\n",
    "# se inicializa la variable\n",
    "init = tf.global_variables_initializer()\n",
    "\n",
    "print (y.eval())\n",
    "print (y_hat.eval())\n",
    "\n",
    "# se crea la sesión\n",
    "with tf.Session() as session:\n",
    "    #se inicializan las variables y se ejecutan\n",
    "    session.run(init)\n",
    "    #print la loss\n",
    "    print (session.run(loss))\n",
    "    "
   ]
  },
  {
   "cell_type": "code",
   "execution_count": 62,
   "metadata": {},
   "outputs": [
    {
     "name": "stdout",
     "output_type": "stream",
     "text": [
      "2\n",
      "Tensor(\"Mul_12:0\", shape=(), dtype=int32)\n",
      "6\n",
      "<tf.Variable 'Variable_17:0' shape=() dtype=int32_ref>\n",
      "6\n"
     ]
    }
   ],
   "source": [
    "a = tf.constant(2)\n",
    "b = tf.constant(3)\n",
    "c = tf.multiply(a,b)\n",
    "d =tf.Variable(a*b)\n",
    "init = tf.global_variables_initializer()\n",
    "\n",
    "with tf.Session() as session:\n",
    "    print (session.run(a))\n",
    "    print (c)\n",
    "    print (session.run(c))\n",
    "    \n",
    "    session.run(init)\n",
    "    print (d)\n",
    "    print (session.run(d))\n"
   ]
  },
  {
   "cell_type": "code",
   "execution_count": 64,
   "metadata": {},
   "outputs": [
    {
     "name": "stdout",
     "output_type": "stream",
     "text": [
      "8\n"
     ]
    }
   ],
   "source": [
    "x1 = tf.placeholder(tf.int64, name=\"x\")\n",
    "with tf.Session() as session:\n",
    "    print (session.run(2*x1, feed_dict={x1:4}))"
   ]
  },
  {
   "cell_type": "markdown",
   "metadata": {},
   "source": [
    "### Linear"
   ]
  },
  {
   "cell_type": "code",
   "execution_count": 77,
   "metadata": {
    "collapsed": true
   },
   "outputs": [],
   "source": [
    "def linear_function():\n",
    "    np.random.seed(2)\n",
    "    \n",
    "    W = tf.constant(np.random.randn(4,3),name=\"W\")\n",
    "    X = tf.constant(np.random.randn(3,1),name=\"X\")\n",
    "    b = tf.constant(np.random.randn(4,1),name=\"b\")\n",
    "    \n",
    "    # Y = WX + b\n",
    "    Y = tf.add(tf.matmul(W,X),b)\n",
    "    \n",
    "    with tf.Session() as session:\n",
    "        result = session.run(Y)\n",
    "    \n",
    "    session.close()\n",
    "    \n",
    "    return result"
   ]
  },
  {
   "cell_type": "code",
   "execution_count": 78,
   "metadata": {},
   "outputs": [
    {
     "name": "stdout",
     "output_type": "stream",
     "text": [
      "[[-1.70210373]\n",
      " [ 1.60018171]\n",
      " [ 2.0177319 ]\n",
      " [-0.16648128]]\n"
     ]
    }
   ],
   "source": [
    "print (linear_function())"
   ]
  },
  {
   "cell_type": "code",
   "execution_count": 89,
   "metadata": {
    "collapsed": true
   },
   "outputs": [],
   "source": [
    "def sigmoid(z):\n",
    "    x = tf.placeholder(tf.float32,name=\"x\")\n",
    "    \n",
    "    sigmoid = tf.sigmoid(x)\n",
    "    \n",
    "    with tf.Session() as session:\n",
    "        result = session.run(sigmoid, feed_dict={x:z})\n",
    "        \n",
    "    return result"
   ]
  },
  {
   "cell_type": "code",
   "execution_count": 90,
   "metadata": {},
   "outputs": [
    {
     "name": "stdout",
     "output_type": "stream",
     "text": [
      "0 0.5\n",
      "12 0.999994\n"
     ]
    }
   ],
   "source": [
    "print (\"0 \" + str(sigmoid(0)))\n",
    "print (\"12 \" + str(sigmoid(12)))"
   ]
  },
  {
   "cell_type": "code",
   "execution_count": null,
   "metadata": {
    "collapsed": true
   },
   "outputs": [],
   "source": []
  }
 ],
 "metadata": {
  "kernelspec": {
   "display_name": "Python 3",
   "language": "python",
   "name": "python3"
  },
  "language_info": {
   "codemirror_mode": {
    "name": "ipython",
    "version": 3
   },
   "file_extension": ".py",
   "mimetype": "text/x-python",
   "name": "python",
   "nbconvert_exporter": "python",
   "pygments_lexer": "ipython3",
   "version": "3.6.1"
  }
 },
 "nbformat": 4,
 "nbformat_minor": 2
}
