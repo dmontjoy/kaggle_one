{
 "cells": [
  {
   "cell_type": "code",
   "execution_count": 1,
   "metadata": {
    "collapsed": true
   },
   "outputs": [],
   "source": [
    "import numpy as np\n",
    "import tensorflow as tf\n",
    "from tensorflow.python.framework import ops"
   ]
  },
  {
   "cell_type": "code",
   "execution_count": 10,
   "metadata": {},
   "outputs": [
    {
     "name": "stdout",
     "output_type": "stream",
     "text": [
      "[[1]\n",
      " [2]\n",
      " [3]]\n",
      "[[1 2]\n",
      " [2 3]]\n"
     ]
    }
   ],
   "source": [
    "a = np.array([[1],[2],[3]])\n",
    "b = np.array([[1,2],[2,3]])\n",
    "print (a)\n",
    "print (b)"
   ]
  },
  {
   "cell_type": "code",
   "execution_count": 11,
   "metadata": {},
   "outputs": [
    {
     "data": {
      "text/plain": [
       "(2, 2)"
      ]
     },
     "execution_count": 11,
     "metadata": {},
     "output_type": "execute_result"
    }
   ],
   "source": [
    "a.shape\n",
    "b.shape"
   ]
  },
  {
   "cell_type": "code",
   "execution_count": 13,
   "metadata": {},
   "outputs": [
    {
     "data": {
      "text/plain": [
       "(2, 2)"
      ]
     },
     "execution_count": 13,
     "metadata": {},
     "output_type": "execute_result"
    }
   ],
   "source": [
    "np.squeeze(a)\n",
    "b=np.squeeze(b)\n",
    "b.shape"
   ]
  },
  {
   "cell_type": "code",
   "execution_count": 4,
   "metadata": {},
   "outputs": [
    {
     "name": "stdout",
     "output_type": "stream",
     "text": [
      "10\n",
      "Wall time: 1 ms\n"
     ]
    }
   ],
   "source": [
    "%%time\n",
    "a=5\n",
    "b=5\n",
    "print (a+b)"
   ]
  },
  {
   "cell_type": "code",
   "execution_count": 2,
   "metadata": {},
   "outputs": [
    {
     "data": {
      "text/plain": [
       "(1, 2)"
      ]
     },
     "execution_count": 2,
     "metadata": {},
     "output_type": "execute_result"
    }
   ],
   "source": [
    "import numpy as np\n",
    "a= np.array([[5],[2]])\n",
    "(a).T.shape"
   ]
  },
  {
   "cell_type": "code",
   "execution_count": 47,
   "metadata": {},
   "outputs": [
    {
     "name": "stdout",
     "output_type": "stream",
     "text": [
      "{'b1': <tf.Variable 'b1:0' shape=(2, 1) dtype=float32_ref>, 'W1': <tf.Variable 'W1:0' shape=(2, 4) dtype=float32_ref>, 'b2': <tf.Variable 'b2:0' shape=(3, 1) dtype=float32_ref>, 'W2': <tf.Variable 'W2:0' shape=(3, 2) dtype=float32_ref>, 'b3': <tf.Variable 'b3:0' shape=(4, 1) dtype=float32_ref>, 'W3': <tf.Variable 'W3:0' shape=(4, 3) dtype=float32_ref>}\n"
     ]
    }
   ],
   "source": [
    "ops.reset_default_graph() \n",
    "layer = [2,3,4]\n",
    "parameter={}\n",
    "for i,v in enumerate(layer):\n",
    "    parameter['b' + str(i+1)] =tf.get_variable('b' + str(i+1), [layer[i], 1], initializer = tf.zeros_initializer()) \n",
    "    parameter['W' + str(i+1)] =tf.get_variable('W' + str(i+1), [layer[i], layer[i-1]], initializer = tf.contrib.layers.xavier_initializer(seed = 1))\n",
    "\n",
    "print (parameter)    "
   ]
  },
  {
   "cell_type": "code",
   "execution_count": 51,
   "metadata": {},
   "outputs": [
    {
     "name": "stdout",
     "output_type": "stream",
     "text": [
      "<tf.Variable 'b1:0' shape=(2, 1) dtype=float32_ref>\n",
      "<tf.Variable 'b1:0' shape=(2, 1) dtype=float32_ref>\n",
      "<tf.Variable 'W1:0' shape=(2, 4) dtype=float32_ref>\n",
      "<tf.Variable 'W1:0' shape=(2, 4) dtype=float32_ref>\n",
      "<tf.Variable 'b2:0' shape=(3, 1) dtype=float32_ref>\n",
      "<tf.Variable 'b2:0' shape=(3, 1) dtype=float32_ref>\n",
      "<tf.Variable 'W2:0' shape=(3, 2) dtype=float32_ref>\n",
      "<tf.Variable 'W2:0' shape=(3, 2) dtype=float32_ref>\n",
      "<tf.Variable 'b3:0' shape=(4, 1) dtype=float32_ref>\n",
      "<tf.Variable 'b3:0' shape=(4, 1) dtype=float32_ref>\n",
      "---\n",
      "<tf.Variable 'W3:0' shape=(4, 3) dtype=float32_ref>\n"
     ]
    }
   ],
   "source": [
    "max= (len(parameter))\n",
    "for i,v in enumerate(parameter):\n",
    "    if (i==max-1):\n",
    "        break\n",
    "    print (parameter[v])\n",
    "    print (parameter[v])\n",
    "    i=i+1\n",
    "\n",
    "print (\"---\")\n",
    "print (parameter[v])"
   ]
  },
  {
   "cell_type": "code",
   "execution_count": 72,
   "metadata": {},
   "outputs": [
    {
     "name": "stdout",
     "output_type": "stream",
     "text": [
      "6\n",
      "----\n",
      "1\n",
      "3.0\n",
      "<tf.Variable 'W1:0' shape=(2, 4) dtype=float32_ref>\n",
      "3\n",
      "3.0\n",
      "<tf.Variable 'W2:0' shape=(3, 2) dtype=float32_ref>\n",
      "5\n",
      "3.0\n",
      "---\n",
      "<tf.Variable 'W3:0' shape=(4, 3) dtype=float32_ref>\n"
     ]
    }
   ],
   "source": [
    "maximo= (len(parameter))\n",
    "print(maximo)\n",
    "print (\"----\")\n",
    "cont =1\n",
    "for i in range(1,maximo+1,2):\n",
    "    print (i)\n",
    "    print ((maximo)/2)\n",
    "    if (cont==((maximo)/2)):\n",
    "        break\n",
    "    print (parameter['W'+str(cont)])\n",
    "    cont=cont+1\n",
    "\n",
    "\n",
    "print (\"---\")\n",
    "print (parameter['W'+str(cont)])"
   ]
  },
  {
   "cell_type": "code",
   "execution_count": 6,
   "metadata": {},
   "outputs": [
    {
     "name": "stdout",
     "output_type": "stream",
     "text": [
      "----Termino-----\n"
     ]
    }
   ],
   "source": [
    "import time\n",
    "result=['uno','dos']\n",
    "fecha=time.strftime(\"%d-%m-%Y-%H-%M-%S\")\n",
    "resultado = '\\n'.join(map(str, result))\n",
    "\n",
    "f = open ('archivo'+fecha+'.txt',\"w\")\n",
    "f.write(resultado)\n",
    "f.close()\n",
    "print(\"----Termino-----\")"
   ]
  },
  {
   "cell_type": "code",
   "execution_count": 38,
   "metadata": {},
   "outputs": [
    {
     "name": "stdout",
     "output_type": "stream",
     "text": [
      "[ -1.66808802e+00  -2.88129797e+00  -4.57499269e-04  -1.20933029e+00\n",
      "  -5.87023563e-01  -3.69354379e-01  -7.45040846e-01  -1.38224291e+00\n",
      "  -1.58706990e+00  -2.15526694e+00  -1.67677806e+00  -2.74087800e+00\n",
      "  -8.17808999e-01  -3.51246975e+00  -1.09550373e-01  -2.68187004e+00\n",
      "  -1.66921921e+00  -2.23475931e+00  -5.61547754e-01  -7.92405956e-01\n",
      "  -3.20297827e+00  -3.87304630e+00  -1.25369671e+00  -2.76929046e+00\n",
      "  -3.50555661e+00  -3.57842665e+00  -3.40176845e-01  -1.56219133e-01\n",
      "  -6.79321678e-01  -3.51257001e+00]\n"
     ]
    },
    {
     "data": {
      "text/plain": [
       "array([  1.30000000e-04,   2.60000000e-04,   3.10000000e-04,\n",
       "         6.30000000e-04,   1.31000000e-03,   1.70000000e-03,\n",
       "         1.82000000e-03,   2.08000000e-03,   5.82000000e-03,\n",
       "         6.99000000e-03,   2.10500000e-02,   2.14200000e-02,\n",
       "         2.14700000e-02,   2.58800000e-02,   4.14700000e-02,\n",
       "         5.57600000e-02,   6.17500000e-02,   1.52120000e-01,\n",
       "         1.61290000e-01,   1.79870000e-01,   2.09260000e-01,\n",
       "         2.58810000e-01,   2.74440000e-01,   4.27210000e-01,\n",
       "         4.56900000e-01,   6.97880000e-01,   7.77050000e-01,\n",
       "         9.98950000e-01])"
      ]
     },
     "execution_count": 38,
     "metadata": {},
     "output_type": "execute_result"
    }
   ],
   "source": [
    "np.random.seed(1)\n",
    "l_el= -4*np.random.rand(30)\n",
    "print(l_el)\n",
    "np.unique(np.around(np.power(10,l_el),decimals=5))"
   ]
  },
  {
   "cell_type": "code",
   "execution_count": 6,
   "metadata": {},
   "outputs": [
    {
     "name": "stdout",
     "output_type": "stream",
     "text": [
      "hola\n"
     ]
    }
   ],
   "source": [
    "10"
   ]
  },
  {
   "cell_type": "code",
   "execution_count": 26,
   "metadata": {},
   "outputs": [
    {
     "name": "stdout",
     "output_type": "stream",
     "text": [
      "[ 0.1  0.2  0.3  1.   0. ]\n"
     ]
    }
   ],
   "source": [
    "import warnings\n",
    "warnings.filterwarnings('ignore')\n",
    "from sklearn.preprocessing import MinMaxScaler\n",
    "\n",
    "X_train_p=np.array([100.0,200.0,300.0,1000,0])\n",
    "scaler= MinMaxScaler()\n",
    "scaler.fit(X_train_p)\n",
    "    \n",
    "X_train_p = scaler.transform(X_train_p)\n",
    "print (X_train_p)"
   ]
  },
  {
   "cell_type": "code",
   "execution_count": 42,
   "metadata": {},
   "outputs": [
    {
     "name": "stdout",
     "output_type": "stream",
     "text": [
      "[ 0.94798488  0.96226894  0.92839641  0.96178508  0.97511631]\n"
     ]
    }
   ],
   "source": [
    "r=np.random.rand(5)\n",
    "beta = r*0.09 +0.9\n",
    "print (beta)"
   ]
  },
  {
   "cell_type": "code",
   "execution_count": 45,
   "metadata": {},
   "outputs": [
    {
     "name": "stdout",
     "output_type": "stream",
     "text": [
      "[ 0.28777534  0.13002857  0.01936696  0.67883553  0.21162812]\n",
      "[ 0.94845048  0.92587385  0.90436144  0.97905094  0.93857122]\n"
     ]
    }
   ],
   "source": [
    "r=np.random.rand(5)\n",
    "print (r)\n",
    "beta =1-10**(-r-1)\n",
    "print (beta)"
   ]
  },
  {
   "cell_type": "code",
   "execution_count": 52,
   "metadata": {},
   "outputs": [
    {
     "name": "stdout",
     "output_type": "stream",
     "text": [
      "[ 0.00017  0.00035  0.0005   0.00072  0.00079  0.00175  0.00212  0.00619\n",
      "  0.00792  0.00851]\n"
     ]
    }
   ],
   "source": [
    "l_el = np.random.uniform(-4,-2,10)\n",
    "print (np.unique(np.around(np.power(10,l_el),decimals=5)))"
   ]
  },
  {
   "cell_type": "code",
   "execution_count": 53,
   "metadata": {
    "collapsed": true
   },
   "outputs": [],
   "source": [
    "a = np.array([[1,2],[1,2]])"
   ]
  },
  {
   "cell_type": "code",
   "execution_count": 55,
   "metadata": {},
   "outputs": [
    {
     "data": {
      "text/plain": [
       "array([[1, 1],\n",
       "       [2, 2]])"
      ]
     },
     "execution_count": 55,
     "metadata": {},
     "output_type": "execute_result"
    }
   ],
   "source": [
    "a.T"
   ]
  },
  {
   "cell_type": "code",
   "execution_count": 56,
   "metadata": {},
   "outputs": [
    {
     "data": {
      "text/plain": [
       "array([[5, 5],\n",
       "       [5, 5]])"
      ]
     },
     "execution_count": 56,
     "metadata": {},
     "output_type": "execute_result"
    }
   ],
   "source": [
    "np.matmul(a,a.T)"
   ]
  },
  {
   "cell_type": "code",
   "execution_count": 58,
   "metadata": {},
   "outputs": [
    {
     "data": {
      "text/plain": [
       "array([[5, 5],\n",
       "       [5, 5]])"
      ]
     },
     "execution_count": 58,
     "metadata": {},
     "output_type": "execute_result"
    }
   ],
   "source": [
    "np.dot(a,a.T)"
   ]
  },
  {
   "cell_type": "code",
   "execution_count": 59,
   "metadata": {
    "collapsed": true
   },
   "outputs": [],
   "source": [
    "from sklearn.decomposition import TruncatedSVD"
   ]
  },
  {
   "cell_type": "code",
   "execution_count": 60,
   "metadata": {
    "collapsed": true
   },
   "outputs": [],
   "source": [
    "import numpy as np\n",
    "LA = np.linalg\n"
   ]
  },
  {
   "cell_type": "code",
   "execution_count": 61,
   "metadata": {
    "collapsed": true
   },
   "outputs": [],
   "source": [
    "a = np.array([[1,1,1,0,0],[3,3,3,0,0],[4,4,4,0,0],[5,5,5,0,0],[0,2,0,4,4],[0,0,0,5,5],[0,1,0,2,2]])"
   ]
  },
  {
   "cell_type": "code",
   "execution_count": 93,
   "metadata": {
    "collapsed": true
   },
   "outputs": [],
   "source": [
    "U, s, V = np.linalg.svd(a, full_matrices=False)"
   ]
  },
  {
   "cell_type": "code",
   "execution_count": 94,
   "metadata": {},
   "outputs": [
    {
     "data": {
      "text/plain": [
       "(7, 5)"
      ]
     },
     "execution_count": 94,
     "metadata": {},
     "output_type": "execute_result"
    }
   ],
   "source": [
    "a.shape"
   ]
  },
  {
   "cell_type": "code",
   "execution_count": 98,
   "metadata": {},
   "outputs": [
    {
     "name": "stdout",
     "output_type": "stream",
     "text": [
      "[[-0.138  0.024  0.011  0.99  -0.   ]\n",
      " [-0.413  0.071  0.032 -0.059 -0.885]\n",
      " [-0.55   0.094  0.043 -0.079  0.424]\n",
      " [-0.688  0.118  0.054 -0.099  0.192]\n",
      " [-0.153 -0.591 -0.654 -0.     0.   ]\n",
      " [-0.072 -0.731  0.678  0.    -0.   ]\n",
      " [-0.076 -0.296 -0.327 -0.    -0.   ]]\n",
      "----\n",
      "[ 12.481   9.509   1.346   0.      0.   ]\n",
      "*********\n",
      "[[-0.562 -0.593 -0.562 -0.09  -0.09 ]\n",
      " [ 0.127 -0.029  0.127 -0.695 -0.695]\n",
      " [ 0.41  -0.805  0.41   0.091  0.091]\n",
      " [-0.707  0.     0.707 -0.     0.   ]\n",
      " [-0.     0.    -0.     0.707 -0.707]]\n"
     ]
    }
   ],
   "source": [
    "np.set_printoptions(suppress=True)\n",
    "np.set_printoptions(precision=3)\n",
    "print(U)\n",
    "print (\"----\")\n",
    "print(s)\n",
    "print (\"*********\")\n",
    "print (V)"
   ]
  },
  {
   "cell_type": "code",
   "execution_count": 80,
   "metadata": {},
   "outputs": [
    {
     "name": "stdout",
     "output_type": "stream",
     "text": [
      "[[-0.138  0.024  0.011  0.99  -0.   ]\n",
      " [-0.413  0.071  0.032 -0.059 -0.885]\n",
      " [-0.55   0.094  0.043 -0.079  0.424]\n",
      " [-0.688  0.118  0.054 -0.099  0.192]\n",
      " [-0.153 -0.591 -0.654 -0.     0.   ]\n",
      " [-0.072 -0.731  0.678  0.    -0.   ]\n",
      " [-0.076 -0.296 -0.327 -0.    -0.   ]]\n"
     ]
    }
   ],
   "source": [
    "import numpy as np\n",
    "import scipy.linalg as SL\n",
    "a = np.array([[1,1,1,0,0],[3,3,3,0,0],[4,4,4,0,0],[5,5,5,0,0],[0,2,0,4,4],[0,0,0,5,5],[0,1,0,2,2]])\n",
    "\n",
    "U, s, Vh = SL.svd(a, full_matrices=False)\n",
    "\n",
    "print (U)"
   ]
  },
  {
   "cell_type": "code",
   "execution_count": null,
   "metadata": {
    "collapsed": true
   },
   "outputs": [],
   "source": []
  }
 ],
 "metadata": {
  "kernelspec": {
   "display_name": "Python 3",
   "language": "python",
   "name": "python3"
  },
  "language_info": {
   "codemirror_mode": {
    "name": "ipython",
    "version": 3
   },
   "file_extension": ".py",
   "mimetype": "text/x-python",
   "name": "python",
   "nbconvert_exporter": "python",
   "pygments_lexer": "ipython3",
   "version": "3.6.1"
  }
 },
 "nbformat": 4,
 "nbformat_minor": 2
}
