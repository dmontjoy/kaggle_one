{
 "cells": [
  {
   "cell_type": "code",
   "execution_count": 26,
   "metadata": {
    "collapsed": true
   },
   "outputs": [],
   "source": [
    "import numpy as np\n",
    "import tensorflow as tf\n",
    "from tensorflow.python.framework import ops"
   ]
  },
  {
   "cell_type": "code",
   "execution_count": 10,
   "metadata": {},
   "outputs": [
    {
     "name": "stdout",
     "output_type": "stream",
     "text": [
      "[[1]\n",
      " [2]\n",
      " [3]]\n",
      "[[1 2]\n",
      " [2 3]]\n"
     ]
    }
   ],
   "source": [
    "a = np.array([[1],[2],[3]])\n",
    "b = np.array([[1,2],[2,3]])\n",
    "print (a)\n",
    "print (b)"
   ]
  },
  {
   "cell_type": "code",
   "execution_count": 11,
   "metadata": {},
   "outputs": [
    {
     "data": {
      "text/plain": [
       "(2, 2)"
      ]
     },
     "execution_count": 11,
     "metadata": {},
     "output_type": "execute_result"
    }
   ],
   "source": [
    "a.shape\n",
    "b.shape"
   ]
  },
  {
   "cell_type": "code",
   "execution_count": 13,
   "metadata": {},
   "outputs": [
    {
     "data": {
      "text/plain": [
       "(2, 2)"
      ]
     },
     "execution_count": 13,
     "metadata": {},
     "output_type": "execute_result"
    }
   ],
   "source": [
    "np.squeeze(a)\n",
    "b=np.squeeze(b)\n",
    "b.shape"
   ]
  },
  {
   "cell_type": "code",
   "execution_count": 4,
   "metadata": {},
   "outputs": [
    {
     "name": "stdout",
     "output_type": "stream",
     "text": [
      "10\n",
      "Wall time: 1 ms\n"
     ]
    }
   ],
   "source": [
    "%%time\n",
    "a=5\n",
    "b=5\n",
    "print (a+b)"
   ]
  },
  {
   "cell_type": "code",
   "execution_count": 2,
   "metadata": {},
   "outputs": [
    {
     "data": {
      "text/plain": [
       "(1, 2)"
      ]
     },
     "execution_count": 2,
     "metadata": {},
     "output_type": "execute_result"
    }
   ],
   "source": [
    "import numpy as np\n",
    "a= np.array([[5],[2]])\n",
    "(a).T.shape"
   ]
  },
  {
   "cell_type": "code",
   "execution_count": 47,
   "metadata": {},
   "outputs": [
    {
     "name": "stdout",
     "output_type": "stream",
     "text": [
      "{'b1': <tf.Variable 'b1:0' shape=(2, 1) dtype=float32_ref>, 'W1': <tf.Variable 'W1:0' shape=(2, 4) dtype=float32_ref>, 'b2': <tf.Variable 'b2:0' shape=(3, 1) dtype=float32_ref>, 'W2': <tf.Variable 'W2:0' shape=(3, 2) dtype=float32_ref>, 'b3': <tf.Variable 'b3:0' shape=(4, 1) dtype=float32_ref>, 'W3': <tf.Variable 'W3:0' shape=(4, 3) dtype=float32_ref>}\n"
     ]
    }
   ],
   "source": [
    "ops.reset_default_graph() \n",
    "layer = [2,3,4]\n",
    "parameter={}\n",
    "for i,v in enumerate(layer):\n",
    "    parameter['b' + str(i+1)] =tf.get_variable('b' + str(i+1), [layer[i], 1], initializer = tf.zeros_initializer()) \n",
    "    parameter['W' + str(i+1)] =tf.get_variable('W' + str(i+1), [layer[i], layer[i-1]], initializer = tf.contrib.layers.xavier_initializer(seed = 1))\n",
    "\n",
    "print (parameter)    "
   ]
  },
  {
   "cell_type": "code",
   "execution_count": 51,
   "metadata": {},
   "outputs": [
    {
     "name": "stdout",
     "output_type": "stream",
     "text": [
      "<tf.Variable 'b1:0' shape=(2, 1) dtype=float32_ref>\n",
      "<tf.Variable 'b1:0' shape=(2, 1) dtype=float32_ref>\n",
      "<tf.Variable 'W1:0' shape=(2, 4) dtype=float32_ref>\n",
      "<tf.Variable 'W1:0' shape=(2, 4) dtype=float32_ref>\n",
      "<tf.Variable 'b2:0' shape=(3, 1) dtype=float32_ref>\n",
      "<tf.Variable 'b2:0' shape=(3, 1) dtype=float32_ref>\n",
      "<tf.Variable 'W2:0' shape=(3, 2) dtype=float32_ref>\n",
      "<tf.Variable 'W2:0' shape=(3, 2) dtype=float32_ref>\n",
      "<tf.Variable 'b3:0' shape=(4, 1) dtype=float32_ref>\n",
      "<tf.Variable 'b3:0' shape=(4, 1) dtype=float32_ref>\n",
      "---\n",
      "<tf.Variable 'W3:0' shape=(4, 3) dtype=float32_ref>\n"
     ]
    }
   ],
   "source": [
    "max= (len(parameter))\n",
    "for i,v in enumerate(parameter):\n",
    "    if (i==max-1):\n",
    "        break\n",
    "    print (parameter[v])\n",
    "    print (parameter[v])\n",
    "    i=i+1\n",
    "\n",
    "print (\"---\")\n",
    "print (parameter[v])"
   ]
  },
  {
   "cell_type": "code",
   "execution_count": 72,
   "metadata": {},
   "outputs": [
    {
     "name": "stdout",
     "output_type": "stream",
     "text": [
      "6\n",
      "----\n",
      "1\n",
      "3.0\n",
      "<tf.Variable 'W1:0' shape=(2, 4) dtype=float32_ref>\n",
      "3\n",
      "3.0\n",
      "<tf.Variable 'W2:0' shape=(3, 2) dtype=float32_ref>\n",
      "5\n",
      "3.0\n",
      "---\n",
      "<tf.Variable 'W3:0' shape=(4, 3) dtype=float32_ref>\n"
     ]
    }
   ],
   "source": [
    "maximo= (len(parameter))\n",
    "print(maximo)\n",
    "print (\"----\")\n",
    "cont =1\n",
    "for i in range(1,maximo+1,2):\n",
    "    print (i)\n",
    "    print ((maximo)/2)\n",
    "    if (cont==((maximo)/2)):\n",
    "        break\n",
    "    print (parameter['W'+str(cont)])\n",
    "    cont=cont+1\n",
    "\n",
    "\n",
    "print (\"---\")\n",
    "print (parameter['W'+str(cont)])"
   ]
  },
  {
   "cell_type": "code",
   "execution_count": 6,
   "metadata": {},
   "outputs": [
    {
     "name": "stdout",
     "output_type": "stream",
     "text": [
      "----Termino-----\n"
     ]
    }
   ],
   "source": [
    "import time\n",
    "result=['uno','dos']\n",
    "fecha=time.strftime(\"%d-%m-%Y-%H-%M-%S\")\n",
    "resultado = '\\n'.join(map(str, result))\n",
    "\n",
    "f = open ('archivo'+fecha+'.txt',\"w\")\n",
    "f.write(resultado)\n",
    "f.close()\n",
    "print(\"----Termino-----\")"
   ]
  },
  {
   "cell_type": "code",
   "execution_count": null,
   "metadata": {
    "collapsed": true
   },
   "outputs": [],
   "source": []
  }
 ],
 "metadata": {
  "kernelspec": {
   "display_name": "Python 3",
   "language": "python",
   "name": "python3"
  },
  "language_info": {
   "codemirror_mode": {
    "name": "ipython",
    "version": 3
   },
   "file_extension": ".py",
   "mimetype": "text/x-python",
   "name": "python",
   "nbconvert_exporter": "python",
   "pygments_lexer": "ipython3",
   "version": "3.6.1"
  }
 },
 "nbformat": 4,
 "nbformat_minor": 2
}
