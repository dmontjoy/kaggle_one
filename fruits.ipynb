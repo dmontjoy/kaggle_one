{
 "cells": [
  {
   "cell_type": "code",
   "execution_count": 46,
   "metadata": {},
   "outputs": [],
   "source": [
    "%matplotlib inline \n",
    "import numpy as np\n",
    "import matplotlib.pyplot as plt\n",
    "import pandas as pd\n",
    "from sklearn.model_selection import train_test_split\n",
    "from matplotlib import cm\n"
   ]
  },
  {
   "cell_type": "code",
   "execution_count": 47,
   "metadata": {},
   "outputs": [
    {
     "data": {
      "text/html": [
       "<div>\n",
       "<style>\n",
       "    .dataframe thead tr:only-child th {\n",
       "        text-align: right;\n",
       "    }\n",
       "\n",
       "    .dataframe thead th {\n",
       "        text-align: left;\n",
       "    }\n",
       "\n",
       "    .dataframe tbody tr th {\n",
       "        vertical-align: top;\n",
       "    }\n",
       "</style>\n",
       "<table border=\"1\" class=\"dataframe\">\n",
       "  <thead>\n",
       "    <tr style=\"text-align: right;\">\n",
       "      <th></th>\n",
       "      <th>fruit_label</th>\n",
       "      <th>fruit_name</th>\n",
       "      <th>fruit_subtype</th>\n",
       "      <th>mass</th>\n",
       "      <th>width</th>\n",
       "      <th>height</th>\n",
       "      <th>color_score</th>\n",
       "    </tr>\n",
       "  </thead>\n",
       "  <tbody>\n",
       "    <tr>\n",
       "      <th>0</th>\n",
       "      <td>1</td>\n",
       "      <td>apple</td>\n",
       "      <td>granny_smith</td>\n",
       "      <td>192</td>\n",
       "      <td>8.4</td>\n",
       "      <td>7.3</td>\n",
       "      <td>0.55</td>\n",
       "    </tr>\n",
       "    <tr>\n",
       "      <th>1</th>\n",
       "      <td>1</td>\n",
       "      <td>apple</td>\n",
       "      <td>granny_smith</td>\n",
       "      <td>180</td>\n",
       "      <td>8.0</td>\n",
       "      <td>6.8</td>\n",
       "      <td>0.59</td>\n",
       "    </tr>\n",
       "    <tr>\n",
       "      <th>2</th>\n",
       "      <td>1</td>\n",
       "      <td>apple</td>\n",
       "      <td>granny_smith</td>\n",
       "      <td>176</td>\n",
       "      <td>7.4</td>\n",
       "      <td>7.2</td>\n",
       "      <td>0.60</td>\n",
       "    </tr>\n",
       "    <tr>\n",
       "      <th>3</th>\n",
       "      <td>2</td>\n",
       "      <td>mandarin</td>\n",
       "      <td>mandarin</td>\n",
       "      <td>86</td>\n",
       "      <td>6.2</td>\n",
       "      <td>4.7</td>\n",
       "      <td>0.80</td>\n",
       "    </tr>\n",
       "    <tr>\n",
       "      <th>4</th>\n",
       "      <td>2</td>\n",
       "      <td>mandarin</td>\n",
       "      <td>mandarin</td>\n",
       "      <td>84</td>\n",
       "      <td>6.0</td>\n",
       "      <td>4.6</td>\n",
       "      <td>0.79</td>\n",
       "    </tr>\n",
       "  </tbody>\n",
       "</table>\n",
       "</div>"
      ],
      "text/plain": [
       "   fruit_label fruit_name fruit_subtype  mass  width  height  color_score\n",
       "0            1      apple  granny_smith   192    8.4     7.3         0.55\n",
       "1            1      apple  granny_smith   180    8.0     6.8         0.59\n",
       "2            1      apple  granny_smith   176    7.4     7.2         0.60\n",
       "3            2   mandarin      mandarin    86    6.2     4.7         0.80\n",
       "4            2   mandarin      mandarin    84    6.0     4.6         0.79"
      ]
     },
     "execution_count": 47,
     "metadata": {},
     "output_type": "execute_result"
    }
   ],
   "source": [
    "fruits = pd.read_table('fruit_data_with_colors.txt')\n",
    "fruits.head()"
   ]
  },
  {
   "cell_type": "markdown",
   "metadata": {},
   "source": [
    "## Analisis\n",
    "Es diferente y=fruits[\"fruit_label\"] a y=fruits[[\"fruit_label\"]], el segundo data un dataframe, el primero es una serie."
   ]
  },
  {
   "cell_type": "code",
   "execution_count": 48,
   "metadata": {},
   "outputs": [
    {
     "name": "stdout",
     "output_type": "stream",
     "text": [
      "[1 1 1 2 2 2 2 2 1 1 1 1 1 1 1 1 1 1 1 1 1 1 1 1 3 3 3 3 3 3 3 3 3 3 3 3 3\n",
      " 3 3 3 3 3 3 4 4 4 4 4 4 4 4 4 4 4 4 4 4 4 4]\n"
     ]
    }
   ],
   "source": [
    "#X=fruits[[\"height\",\"width\",\"mass\",\"color_score\"]]\n",
    "#X_train = X_train[['height','width', 'height']]\n",
    "##cuando agrego mass tiene menos precisión\n",
    "X=fruits[['height','width', 'mass']]\n",
    "y=fruits[\"fruit_label\"]\n",
    "print (y.values)"
   ]
  },
  {
   "cell_type": "code",
   "execution_count": 49,
   "metadata": {
    "collapsed": true
   },
   "outputs": [],
   "source": [
    "##75 - 25\n",
    "## Divido entranamiento y prueba\n",
    "X_train, X_test, y_train,y_test = train_test_split(X,y,random_state=0)\n",
    "##?train_test_split"
   ]
  },
  {
   "cell_type": "code",
   "execution_count": 50,
   "metadata": {},
   "outputs": [
    {
     "name": "stdout",
     "output_type": "stream",
     "text": [
      "X train (44, 3)\n",
      "X_test(15, 3)\n"
     ]
    }
   ],
   "source": [
    "print(\"X train \"+ str(X_train.shape))\n",
    "print(\"X_test\" + str(X_test.shape))"
   ]
  },
  {
   "cell_type": "code",
   "execution_count": 51,
   "metadata": {},
   "outputs": [
    {
     "data": {
      "text/html": [
       "<div>\n",
       "<style>\n",
       "    .dataframe thead tr:only-child th {\n",
       "        text-align: right;\n",
       "    }\n",
       "\n",
       "    .dataframe thead th {\n",
       "        text-align: left;\n",
       "    }\n",
       "\n",
       "    .dataframe tbody tr th {\n",
       "        vertical-align: top;\n",
       "    }\n",
       "</style>\n",
       "<table border=\"1\" class=\"dataframe\">\n",
       "  <thead>\n",
       "    <tr style=\"text-align: right;\">\n",
       "      <th></th>\n",
       "      <th>fruit_label</th>\n",
       "      <th>mass</th>\n",
       "      <th>width</th>\n",
       "      <th>height</th>\n",
       "      <th>color_score</th>\n",
       "    </tr>\n",
       "  </thead>\n",
       "  <tbody>\n",
       "    <tr>\n",
       "      <th>count</th>\n",
       "      <td>59.000000</td>\n",
       "      <td>59.000000</td>\n",
       "      <td>59.000000</td>\n",
       "      <td>59.000000</td>\n",
       "      <td>59.000000</td>\n",
       "    </tr>\n",
       "    <tr>\n",
       "      <th>mean</th>\n",
       "      <td>2.542373</td>\n",
       "      <td>163.118644</td>\n",
       "      <td>7.105085</td>\n",
       "      <td>7.693220</td>\n",
       "      <td>0.762881</td>\n",
       "    </tr>\n",
       "    <tr>\n",
       "      <th>std</th>\n",
       "      <td>1.208048</td>\n",
       "      <td>55.018832</td>\n",
       "      <td>0.816938</td>\n",
       "      <td>1.361017</td>\n",
       "      <td>0.076857</td>\n",
       "    </tr>\n",
       "    <tr>\n",
       "      <th>min</th>\n",
       "      <td>1.000000</td>\n",
       "      <td>76.000000</td>\n",
       "      <td>5.800000</td>\n",
       "      <td>4.000000</td>\n",
       "      <td>0.550000</td>\n",
       "    </tr>\n",
       "    <tr>\n",
       "      <th>25%</th>\n",
       "      <td>1.000000</td>\n",
       "      <td>140.000000</td>\n",
       "      <td>6.600000</td>\n",
       "      <td>7.200000</td>\n",
       "      <td>0.720000</td>\n",
       "    </tr>\n",
       "    <tr>\n",
       "      <th>50%</th>\n",
       "      <td>3.000000</td>\n",
       "      <td>158.000000</td>\n",
       "      <td>7.200000</td>\n",
       "      <td>7.600000</td>\n",
       "      <td>0.750000</td>\n",
       "    </tr>\n",
       "    <tr>\n",
       "      <th>75%</th>\n",
       "      <td>4.000000</td>\n",
       "      <td>177.000000</td>\n",
       "      <td>7.500000</td>\n",
       "      <td>8.200000</td>\n",
       "      <td>0.810000</td>\n",
       "    </tr>\n",
       "    <tr>\n",
       "      <th>max</th>\n",
       "      <td>4.000000</td>\n",
       "      <td>362.000000</td>\n",
       "      <td>9.600000</td>\n",
       "      <td>10.500000</td>\n",
       "      <td>0.930000</td>\n",
       "    </tr>\n",
       "  </tbody>\n",
       "</table>\n",
       "</div>"
      ],
      "text/plain": [
       "       fruit_label        mass      width     height  color_score\n",
       "count    59.000000   59.000000  59.000000  59.000000    59.000000\n",
       "mean      2.542373  163.118644   7.105085   7.693220     0.762881\n",
       "std       1.208048   55.018832   0.816938   1.361017     0.076857\n",
       "min       1.000000   76.000000   5.800000   4.000000     0.550000\n",
       "25%       1.000000  140.000000   6.600000   7.200000     0.720000\n",
       "50%       3.000000  158.000000   7.200000   7.600000     0.750000\n",
       "75%       4.000000  177.000000   7.500000   8.200000     0.810000\n",
       "max       4.000000  362.000000   9.600000  10.500000     0.930000"
      ]
     },
     "execution_count": 51,
     "metadata": {},
     "output_type": "execute_result"
    }
   ],
   "source": [
    "look_up_name=dict(zip(fruits.fruit_label.unique(), fruits.fruit_name.unique()))\n",
    "look_up_name\n",
    "fruits.fruit_label.unique()\n",
    "fruits.fruit_name.unique()\n",
    "fruits.describe()\n",
    "\n"
   ]
  },
  {
   "cell_type": "markdown",
   "metadata": {},
   "source": [
    "Outliers"
   ]
  },
  {
   "cell_type": "code",
   "execution_count": 100,
   "metadata": {},
   "outputs": [
    {
     "data": {
      "image/png": "[encoded data removed]",
      "text/plain": [
       "<matplotlib.figure.Figure at 0xbd9cbe76a0>"
      ]
     },
     "metadata": {},
     "output_type": "display_data"
    }
   ],
   "source": [
    "##https://stackoverflow.com/questions/42592493/displaying-pair-plot-in-pandas-data-frame\n",
    "##%matplotlib inline\n",
    "##y_train.plot(legend=True)\n",
    "\n",
    "cmap = cm.get_cmap('gnuplot')\n",
    "scatter = pd.plotting.scatter_matrix(X_train,c=y_train,marker='o',s=40, figsize=(20, 20),hist_kwds={'bins':15},cmap='brg')"
   ]
  },
  {
   "cell_type": "markdown",
   "metadata": {},
   "source": [
    "### KN\n",
    "* K, impar odd\n",
    "* distancia\n",
    "* cuantos\n",
    "* pesos\n",
    "* votos\n",
    "\n",
    "Knn.score(X_test,y_test), la fracción de los que fueron correctos\n",
    "k=1, no smother, no regularization"
   ]
  },
  {
   "cell_type": "code",
   "execution_count": 99,
   "metadata": {},
   "outputs": [
    {
     "name": "stdout",
     "output_type": "stream",
     "text": [
      "    nume     score   weights\n",
      "7      4  0.733333  distance\n",
      "19    10  0.666667  distance\n",
      "13     7  0.666667  distance\n",
      "35    18  0.666667  distance\n",
      "33    17  0.666667  distance\n",
      "31    16  0.666667  distance\n",
      "29    15  0.666667  distance\n",
      "27    14  0.666667  distance\n",
      "25    13  0.666667  distance\n",
      "23    12  0.666667  distance\n",
      "21    11  0.666667  distance\n",
      "17     9  0.666667  distance\n",
      "15     8  0.666667  distance\n",
      "37    19  0.666667  distance\n",
      "5      3  0.666667  distance\n",
      "0      1  0.600000   uniform\n",
      "11     6  0.600000  distance\n",
      "1      1  0.600000  distance\n",
      "3      2  0.600000  distance\n",
      "9      5  0.600000  distance\n",
      "6      4  0.533333   uniform\n",
      "16     9  0.533333   uniform\n",
      "2      2  0.533333   uniform\n",
      "10     6  0.533333   uniform\n",
      "4      3  0.533333   uniform\n",
      "8      5  0.533333   uniform\n",
      "12     7  0.533333   uniform\n",
      "14     8  0.466667   uniform\n",
      "22    12  0.333333   uniform\n",
      "20    11  0.333333   uniform\n",
      "18    10  0.333333   uniform\n",
      "26    14  0.333333   uniform\n",
      "28    15  0.266667   uniform\n",
      "24    13  0.266667   uniform\n",
      "30    16  0.266667   uniform\n",
      "32    17  0.266667   uniform\n",
      "34    18  0.266667   uniform\n",
      "36    19  0.266667   uniform\n"
     ]
    },
    {
     "data": {
      "image/png": "[encoded data removed]",
      "text/plain": [
       "<matplotlib.figure.Figure at 0xbda7579198>"
      ]
     },
     "metadata": {},
     "output_type": "display_data"
    }
   ],
   "source": [
    "# trabajando con data faltante\n",
    "from sklearn.neighbors import KNeighborsClassifier\n",
    "aux_dict = {}\n",
    "aux_list =[]\n",
    "for nume in range(1,20):\n",
    "    for weights in ['uniform', 'distance']:\n",
    "        knn = KNeighborsClassifier(n_neighbors=nume,weights=weights)\n",
    "        knn.fit(X_train,y_train)\n",
    "        aux_dict={'nume': nume, 'weights': weights, 'score':knn.score(X_test,y_test)}\n",
    "        aux_list.append(aux_dict)\n",
    "        #print (str(nume)+' '+str(weights)+' '+str(knn.score(X_test,y_test))) \n",
    "aux_DataFrame=pd.DataFrame(aux_list).sort_values(by='score', ascending = False)\n",
    "print (aux_DataFrame)\n",
    "\n",
    "plt.figure()\n",
    "plt.scatter(aux_DataFrame.nume, aux_DataFrame.score)\n",
    "plt.show()"
   ]
  },
  {
   "cell_type": "code",
   "execution_count": 81,
   "metadata": {},
   "outputs": [
    {
     "name": "stdout",
     "output_type": "stream",
     "text": [
      "    height  width  mass  real  predic\n",
      "42     7.2    7.2   154     3       1\n",
      "48    10.1    7.3   174     4       1\n",
      "7      4.0    5.8    76     2       2\n",
      "14     7.3    7.6   152     1       1\n",
      "32     7.0    7.2   164     3       1\n",
      "49     8.7    5.8   132     4       4\n",
      "29     7.4    7.0   160     3       3\n",
      "37     7.3    7.3   154     3       1\n",
      "56     8.1    5.9   116     4       4\n",
      "18     7.1    7.5   162     1       1\n",
      "55     7.7    6.3   116     4       4\n",
      "27     9.2    7.5   204     3       3\n",
      "15     7.1    7.7   156     1       1\n",
      "5      4.3    5.8    80     2       2\n",
      "31     8.0    7.8   210     3       3\n",
      "16     7.5    7.6   156     1       1\n",
      "50     8.2    6.0   130     4       4\n",
      "20     7.5    7.5   160     1       1\n",
      "51     7.5    6.0   116     4       4\n",
      "8      7.8    7.1   178     1       1\n",
      "13     7.7    7.3   164     1       1\n",
      "25     9.2    9.2   356     3       3\n",
      "17     7.6    7.5   168     1       1\n",
      "58     8.1    6.1   118     4       4\n",
      "57     8.5    6.5   152     4       1\n",
      "52     8.0    5.9   118     4       4\n",
      "38     7.8    7.2   158     3       3\n",
      "1      6.8    8.0   180     1       1\n",
      "12     7.1    7.0   154     1       1\n",
      "45     9.2    7.2   186     4       1\n",
      "24     9.4    9.0   342     3       3\n",
      "6      4.3    5.9    80     2       2\n",
      "23     7.9    7.6   170     1       1\n",
      "36     7.6    7.1   160     3       3\n",
      "21     7.4    7.4   156     1       1\n",
      "19     7.2    7.4   162     1       1\n",
      "9      7.0    7.4   172     1       1\n",
      "39     7.4    6.8   144     3       1\n",
      "54     8.5    6.1   116     4       4\n",
      "3      4.7    6.2    86     2       2\n",
      "0      7.3    8.4   192     1       4\n",
      "53     8.4    6.0   120     4       4\n",
      "47     9.7    7.3   196     4       4\n",
      "44    10.5    7.3   200     4       3\n"
     ]
    }
   ],
   "source": [
    "fruit_prediction = knn.predict(X_train)\n",
    "X_train_c = X_train.copy()\n",
    "X_train_c['real'] = y_train\n",
    "X_train_c['predic'] = fruit_prediction\n",
    "print (X_train_c)"
   ]
  },
  {
   "cell_type": "code",
   "execution_count": 72,
   "metadata": {},
   "outputs": [],
   "source": []
  },
  {
   "cell_type": "code",
   "execution_count": 79,
   "metadata": {},
   "outputs": [],
   "source": []
  },
  {
   "cell_type": "code",
   "execution_count": null,
   "metadata": {
    "collapsed": true
   },
   "outputs": [],
   "source": []
  }
 ],
 "metadata": {
  "kernelspec": {
   "display_name": "Python 3",
   "language": "python",
   "name": "python3"
  },
  "language_info": {
   "codemirror_mode": {
    "name": "ipython",
    "version": 3
   },
   "file_extension": ".py",
   "mimetype": "text/x-python",
   "name": "python",
   "nbconvert_exporter": "python",
   "pygments_lexer": "ipython3",
   "version": "3.6.1"
  }
 },
 "nbformat": 4,
 "nbformat_minor": 2
}
