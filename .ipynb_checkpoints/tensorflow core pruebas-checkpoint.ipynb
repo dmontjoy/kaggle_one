{
 "cells": [
  {
   "cell_type": "code",
   "execution_count": 5,
   "metadata": {},
   "outputs": [],
   "source": [
    "import numpy as np\n",
    "import tensorflow as tf"
   ]
  },
  {
   "cell_type": "code",
   "execution_count": 42,
   "metadata": {},
   "outputs": [],
   "source": [
    "coefficient = np.array([[1.],[-20.],[100.]])\n",
    "### variable que quiero averiguar el valor\n",
    "w = tf.Variable(0,dtype=tf.float32)\n",
    "### training data puede cambiar\n",
    "x = tf.placeholder(tf.float32,[3,1])\n",
    "### se ha defindo la funcion a optimizar\n",
    "cost = x[0][0]*w**2 + x[1][0]*w + x[2][0]\n",
    "#cost = w**2 -10*w+25\n",
    "#cost = tf.add(tf.add(w**2,tf.multiply(-10.,w)),25.)\n",
    "###learning algorithm\n",
    "tf.train.\n",
    "train = tf.train.GradientDescentOptimizer(0.01).minimize(cost)"
   ]
  },
  {
   "cell_type": "code",
   "execution_count": 46,
   "metadata": {},
   "outputs": [],
   "source": [
    "init = tf.global_variables_initializer()\n",
    "session = tf.Session()\n",
    "session.run(init)\n",
    "#print (session.run(w))"
   ]
  },
  {
   "cell_type": "code",
   "execution_count": 47,
   "metadata": {},
   "outputs": [],
   "source": [
    "#session.run(train, feed_dict={x:coefficient})\n",
    "#print (session.run(w))"
   ]
  },
  {
   "cell_type": "code",
   "execution_count": 48,
   "metadata": {},
   "outputs": [
    {
     "name": "stdout",
     "output_type": "stream",
     "text": [
      "9.99998\n",
      "CPU times: user 556 ms, sys: 119 ms, total: 675 ms\n",
      "Wall time: 404 ms\n"
     ]
    }
   ],
   "source": [
    "%%time\n",
    "for i in range(1000):\n",
    "    session.run(train,feed_dict={x:coefficient})\n",
    "\n",
    "print (session.run(w))"
   ]
  },
  {
   "cell_type": "code",
   "execution_count": null,
   "metadata": {
    "collapsed": true
   },
   "outputs": [],
   "source": []
  }
 ],
 "metadata": {
  "kernelspec": {
   "display_name": "Python 3",
   "language": "python",
   "name": "python3"
  },
  "language_info": {
   "codemirror_mode": {
    "name": "ipython",
    "version": 3
   },
   "file_extension": ".py",
   "mimetype": "text/x-python",
   "name": "python",
   "nbconvert_exporter": "python",
   "pygments_lexer": "ipython3",
   "version": "3.6.3"
  }
 },
 "nbformat": 4,
 "nbformat_minor": 2
}
