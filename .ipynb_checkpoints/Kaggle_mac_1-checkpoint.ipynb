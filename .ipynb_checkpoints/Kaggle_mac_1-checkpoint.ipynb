{
 "cells": [
  {
   "cell_type": "code",
   "execution_count": null,
   "metadata": {},
   "outputs": [],
   "source": [
    "%%time\n",
    "import numpy as np\n",
    "import pandas as pd\n",
    "import matplotlib.pyplot as plt #\n",
    "from sklearn.model_selection import train_test_split\n",
    "from matplotlib import cm\n",
    "pd.set_option('display.max_columns', 200)\n",
    "pd.set_option('display.max_rows', 200)\n",
    "\n",
    "print(\"Comenzo la carga...\")\n",
    "train_req = pd.read_excel(\"train_requerimientos.xlsx\")\n",
    "train_cliente = pd.read_excel(\"train_clientes.xlsx\")\n",
    "test_cliente = pd.read_excel('test_clientes.xlsx')\n",
    "test_req = pd.read_excel('test_requerimientos.xlsx') \n",
    "print (\"Termino de cargar...\")"
   ]
  },
  {
   "cell_type": "markdown",
   "metadata": {},
   "source": [
    "### Enlaces\n",
    "* https://stackoverflow.com/questions/17995024/how-to-assign-a-name-to-the-a-size-column\n",
    "* https://datascience.stackexchange.com/questions/20308/how-to-sum-values-grouped-by-two-columns-in-pandas\n",
    "* https://stackoverflow.com/questions/25748683/pandas-sum-dataframe-rows-for-given-columns"
   ]
  },
  {
   "cell_type": "code",
   "execution_count": null,
   "metadata": {},
   "outputs": [],
   "source": [
    "print (train_cliente.columns)\n",
    "print (train_req.columns)\n",
    "print (\"*******\")\n",
    "print (test_cliente.columns)\n",
    "print (test_req.columns)"
   ]
  },
  {
   "cell_type": "markdown",
   "metadata": {},
   "source": [
    "### Tratando requerimientos"
   ]
  },
  {
   "cell_type": "code",
   "execution_count": null,
   "metadata": {},
   "outputs": [],
   "source": [
    "%%time\n",
    "group_train2 =  train_req.groupby([\"ID_CORRELATIVO\",\"TIPO_REQUERIMIENTO2\",\"DICTAMEN\"])\n",
    "group_test2 =  test_req.groupby([\"ID_CORRELATIVO\",\"TIPO_REQUERIMIENTO2\",\"DICTAMEN\"])\n",
    "\n",
    "df_train_req=group_train2.size().to_frame('size').reset_index()\n",
    "df_test_req=group_test2.size().to_frame('size').reset_index()\n",
    "\n",
    "df_train_req['FUSION']=df_train_req['TIPO_REQUERIMIENTO2']+\" \"+df_train_req['DICTAMEN']\n",
    "df_test_req['FUSION']=df_train_req['TIPO_REQUERIMIENTO2']+\" \"+df_train_req['DICTAMEN']\n",
    "\n",
    "pivot=df_train_req.pivot_table(values='size',index=\"ID_CORRELATIVO\", columns=[\"TIPO_REQUERIMIENTO2\",\"FUSION\"],aggfunc=np.sum)\n",
    "pivot_test=df_test_req.pivot_table(values='size',index=\"ID_CORRELATIVO\", columns=[\"TIPO_REQUERIMIENTO2\",\"FUSION\"],aggfunc=np.sum)\n"
   ]
  },
  {
   "cell_type": "code",
   "execution_count": null,
   "metadata": {
    "collapsed": true,
    "scrolled": false
   },
   "outputs": [],
   "source": [
    "#df_train_req[df_train_req[\"ID_CORRELATIVO\"]==154]\n",
    "#pivot.loc[[154],:]"
   ]
  },
  {
   "cell_type": "code",
   "execution_count": null,
   "metadata": {},
   "outputs": [],
   "source": [
    "pivot.fillna(value=0, inplace=True)\n",
    "pivot_test.fillna(value=0, inplace=True)\n",
    "\n",
    "pivot_total_reclamo= pivot[\"Reclamo\"].sum(axis=1)\n",
    "pivot_total_reclamo_test= pivot_test[\"Reclamo\"].sum(axis=1)\n",
    "#pivot_total_reclamo=pivot_total_reclamo.to_frame('SUMA RECLA')\n",
    "pivot_total_solicitud= pivot[\"Solicitud\"].sum(axis=1)\n",
    "pivot_total_solicitud_test= pivot_test[\"Solicitud\"].sum(axis=1)\n",
    "#pivot_total_solicitud=pivot_total_solicitud.to_frame('SUMA SOLI')\n",
    "#pivot.reset_index(inplace=True)\n",
    "#pivot_total_reclamo.reset_index(inplace=True)\n",
    "#pivot_total_reclamo\n",
    "\n",
    "pivot_no_procede_reclamo=pivot[\"Reclamo\"][\"Reclamo NO PROCEDE\"]+pivot[\"Reclamo\"][\"Reclamo PROCEDE PARCIAL\"]\n",
    "pivot_no_procede_reclamo_test=pivot_test[\"Reclamo\"][\"Reclamo NO PROCEDE\"]+pivot_test[\"Reclamo\"][\"Reclamo PROCEDE PARCIAL\"]\n",
    "#pivot_no_procede_reclamo.to_frame('No Reclamo')\n",
    "pivot_no_procede_solicitud=pivot[\"Solicitud\"][\"Solicitud NO PROCEDE\"]+pivot[\"Solicitud\"][\"Solicitud PROCEDE PARCIAL\"]\n",
    "pivot_no_procede_solicitud_test=pivot_test[\"Solicitud\"][\"Solicitud NO PROCEDE\"]+pivot_test[\"Solicitud\"][\"Solicitud PROCEDE PARCIAL\"]\n",
    "\n",
    "#pivot_no_procede_reclamo.to_frame('No Solicitud')\n",
    "\n",
    "requeremiento={}\n",
    "requeremiento_test={}\n",
    "requerimiento={\"reclamos\":pivot_total_reclamo, \"no_reclamos\":pivot_no_procede_reclamo ,\"solicitudes\":pivot_total_solicitud,\"no_solicitudes\":pivot_no_procede_solicitud}\n",
    "requerimiento_test={\"reclamos\":pivot_total_reclamo_test, \"no_reclamos\":pivot_no_procede_reclamo_test ,\"solicitudes\":pivot_total_solicitud_test,\"no_solicitudes\":pivot_no_procede_solicitud_test}\n",
    "\n",
    "\n",
    "df_requerimiento=pd.DataFrame(requerimiento)\n",
    "df_requerimiento_test=pd.DataFrame(requerimiento_test)\n",
    "\n",
    "df_requerimiento[\"%no_reclamos\"] = np.where(df_requerimiento[\"reclamos\"]==0, 0, df_requerimiento[\"no_reclamos\"]/df_requerimiento[\"reclamos\"])\n",
    "df_requerimiento_test[\"%no_reclamos\"] = np.where(df_requerimiento_test[\"reclamos\"]==0, 0, df_requerimiento_test[\"no_reclamos\"]/df_requerimiento_test[\"reclamos\"])\n",
    "\n",
    "#procesado=pd.DataFrame(pivot_total_reclamo,pivot_total_solicitud)\n",
    "df_requerimiento[\"%no_solicitudes\"] = np.where(df_requerimiento[\"solicitudes\"]==0, 0, df_requerimiento[\"no_solicitudes\"]/df_requerimiento[\"solicitudes\"])\n",
    "df_requerimiento_test[\"%no_solicitudes\"] = np.where(df_requerimiento_test[\"solicitudes\"]==0, 0, df_requerimiento_test[\"no_solicitudes\"]/df_requerimiento_test[\"solicitudes\"])\n"
   ]
  },
  {
   "cell_type": "code",
   "execution_count": null,
   "metadata": {
    "collapsed": true
   },
   "outputs": [],
   "source": [
    "df_requerimiento.reset_index(inplace=True)\n",
    "df_requerimiento_test.reset_index(inplace=True)\n",
    "\n",
    "train=pd.merge(train_cliente,df_requerimiento, on=\"ID_CORRELATIVO\", how='outer')\n",
    "test=pd.merge(test_cliente,df_requerimiento_test, on=\"ID_CORRELATIVO\", how='outer')"
   ]
  },
  {
   "cell_type": "code",
   "execution_count": null,
   "metadata": {},
   "outputs": [],
   "source": [
    "print (train.columns)\n",
    "print (test.columns)"
   ]
  },
  {
   "cell_type": "code",
   "execution_count": null,
   "metadata": {},
   "outputs": [],
   "source": [
    "values = {'no_reclamos': 0, 'no_solicitudes': 0, 'reclamos': 0,'solicitudes': 0 ,'%no_reclamos': 0,'%no_solicitudes': 0}\n",
    "train.fillna(value=values, inplace=True)\n",
    "test.fillna(value=values, inplace=True)\n",
    "test"
   ]
  },
  {
   "cell_type": "code",
   "execution_count": null,
   "metadata": {},
   "outputs": [],
   "source": [
    "print(\"Train\")\n",
    "train.sort_values(by=\"ID_CORRELATIVO\", inplace=True)\n",
    "print (\"El número de filas \" + str(train.shape))\n",
    "print (train.groupby([\"ATTRITION\"]).size())\n"
   ]
  },
  {
   "cell_type": "code",
   "execution_count": null,
   "metadata": {},
   "outputs": [],
   "source": [
    "#[train[\"ATTRITION\"]==1]\n",
    "#'ANTIGUEDAD','EDAD','SDO_ACTIVO_MENOS0','FLG_SEGURO_MENOS0','FLG_NOMINA','NRO_ENTID_SSFF_MENOS0','FLG_SDO_OTSSFF_MENOS0'\n",
    "X_train=train[['FLG_BANCARIZADO','ANTIGUEDAD','EDAD','SDO_ACTIVO_MENOS0','FLG_SEGURO_MENOS0','FLG_NOMINA','NRO_ENTID_SSFF_MENOS0','%no_reclamos',\"%no_solicitudes\"]]\n",
    "X_train=X_train.fillna(X_train.mean()[['ANTIGUEDAD','EDAD']])\n",
    "Y_train =train['ATTRITION']\n",
    "print (X_train.shape)\n",
    "print (Y_train.shape)\n",
    "#X_train_np=X_train.as_matrix(columns=None)\n",
    "#Y_train_np=Y_train.as_matrix(columns=None)"
   ]
  },
  {
   "cell_type": "code",
   "execution_count": null,
   "metadata": {
    "scrolled": true
   },
   "outputs": [],
   "source": [
    "##Feature pair plot, cmap=cmap\n",
    "%matplotlib inline \n",
    "#cmap = cm.get_cmap('gnuplot')\n",
    "#colors=['green','red']\n",
    "#scatter = pd.plotting.scatter_matrix(X_train,c=Y_train.apply(lambda x:colors[x]),marker='o',s=40, figsize=(100, 100),hist_kwds={'bins':15},cmap='brg')\n"
   ]
  },
  {
   "cell_type": "markdown",
   "metadata": {},
   "source": [
    "* Bancarizado es un atributo importante, parece que todos son verdes\n",
    "* mientras mayor el saldo activo menos se retiran\n",
    "* Bancarizado y más de 10 años no se va"
   ]
  },
  {
   "cell_type": "code",
   "execution_count": null,
   "metadata": {},
   "outputs": [],
   "source": [
    "#X_train2 = X_train.copy()\n",
    "#X_train2=X_train.fillna(X_train.mean()[['ANTIGUEDAD','EDAD']])\n",
    "X_train_p, X_test_p, Y_train_p,Y_test_p = train_test_split(X_train,Y_train,random_state=0)\n",
    "print (X_train_p)"
   ]
  },
  {
   "cell_type": "code",
   "execution_count": null,
   "metadata": {},
   "outputs": [],
   "source": [
    "%%time\n",
    "print (\"Comenzo bucle knn\")\n",
    "from sklearn.neighbors import KNeighborsClassifier\n",
    "\n",
    "aux_dict = {}\n",
    "aux_list =[]\n",
    "for nume in range(1,20):\n",
    "    for weights in ['uniform', 'distance']:\n",
    "        knn = KNeighborsClassifier(n_neighbors=nume,weights=weights)\n",
    "        knn.fit(X_train_p,Y_train_p)\n",
    "        aux_dict={'nume': nume, 'weights': weights, 'score':knn.score(X_test,y_test)}\n",
    "        aux_list.append(aux_dict)\n",
    "        #print (str(nume)+' '+str(weights)+' '+str(knn.score(X_test,y_test))) \n",
    "\n",
    "print (\"termino bucle knn\")\n",
    "aux_DataFrame=pd.DataFrame(aux_list).sort_values(by='score', ascending = False)\n",
    "print (aux_DataFrame)\n",
    "\n",
    "plt.figure()\n",
    "plt.scatter(aux_DataFrame.nume, aux_DataFrame.score)\n",
    "plt.show()"
   ]
  },
  {
   "cell_type": "code",
   "execution_count": null,
   "metadata": {
    "collapsed": true
   },
   "outputs": [],
   "source": []
  },
  {
   "cell_type": "code",
   "execution_count": null,
   "metadata": {
    "collapsed": true
   },
   "outputs": [],
   "source": []
  }
 ],
 "metadata": {
  "kernelspec": {
   "display_name": "Python 3",
   "language": "python",
   "name": "python3"
  },
  "language_info": {
   "codemirror_mode": {
    "name": "ipython",
    "version": 3
   },
   "file_extension": ".py",
   "mimetype": "text/x-python",
   "name": "python",
   "nbconvert_exporter": "python",
   "pygments_lexer": "ipython3",
   "version": "3.6.1"
  }
 },
 "nbformat": 4,
 "nbformat_minor": 2
}
