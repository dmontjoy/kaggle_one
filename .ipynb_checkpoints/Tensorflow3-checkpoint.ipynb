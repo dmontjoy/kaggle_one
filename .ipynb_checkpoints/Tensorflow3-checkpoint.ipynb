{
 "cells": [
  {
   "cell_type": "code",
   "execution_count": 2,
   "metadata": {
    "collapsed": true
   },
   "outputs": [],
   "source": [
    "import math\n",
    "import numpy as np\n",
    "import h5py\n",
    "import matplotlib.pyplot as plt\n",
    "import tensorflow as tf\n",
    "from tensorflow.python.framework import ops\n",
    "import resource\n",
    "\n",
    "%matplotlib inline\n",
    "np.random.seed(1)"
   ]
  },
  {
   "cell_type": "code",
   "execution_count": 8,
   "metadata": {},
   "outputs": [
    {
     "name": "stdout",
     "output_type": "stream",
     "text": [
      "W: [-0.9999969] b: [ 0.99999082] loss: 5.69997e-11\n"
     ]
    }
   ],
   "source": [
    "sess = tf.InteractiveSession()\n",
    "#parametros del modelo\n",
    "W = tf.Variable([.3],dtype=tf.float32)\n",
    "b = tf.Variable([-.3],dtype=tf.float32)\n",
    "\n",
    "#inputs and output\n",
    "x = tf.placeholder(tf.float32)\n",
    "linear_model = W*x+b\n",
    "y=tf.placeholder(tf.float32)\n",
    "\n",
    "#minimos cuadrados\n",
    "squared_deltas = tf.square(linear_model-y)\n",
    "loss = tf.reduce_sum(squared_deltas)\n",
    "\n",
    "##optimizer\n",
    "optimizer = tf.train.GradientDescentOptimizer(0.01)\n",
    "train = optimizer.minimize(loss)\n",
    "\n",
    "#training data\n",
    "x_train = [1,2,3,4]\n",
    "y_train = [0,-1,-2,-3]\n",
    "\n",
    "#Training loop\n",
    "init = tf.global_variables_initializer() # handle\n",
    "sess.run(init) # se inializan las variables\n",
    "#print(sess.run(linear_model, {x: [1, 2, 3, 4]}))\n",
    "#print(sess.run(loss, {x: [1, 2, 3, 4], y: [0, -1, -2, -3]}))\n",
    "for i in range(1000):\n",
    "    sess.run(train,{x: x_train, y: y_train} )\n",
    "    \n",
    "\n",
    "    \n",
    "#evaluate training accuracy\n",
    "\n",
    "curr_W, curr_b, curr_loss = sess.run([W, b, loss], {x: x_train, y: y_train})\n",
    "print(\"W: %s b: %s loss: %s\"%(curr_W, curr_b, curr_loss))\n",
    "\n",
    "sess.close()"
   ]
  },
  {
   "cell_type": "code",
   "execution_count": 10,
   "metadata": {},
   "outputs": [
    {
     "name": "stdout",
     "output_type": "stream",
     "text": [
      "INFO:tensorflow:Using default config.\n",
      "WARNING:tensorflow:Using temporary folder as model directory: /var/folders/21/bmnrxj_s7sb77q_1f047804m0000gp/T/tmp1a_blls0\n",
      "INFO:tensorflow:Using config: {'_model_dir': '/var/folders/21/bmnrxj_s7sb77q_1f047804m0000gp/T/tmp1a_blls0', '_tf_random_seed': None, '_save_summary_steps': 100, '_save_checkpoints_steps': None, '_save_checkpoints_secs': 600, '_session_config': None, '_keep_checkpoint_max': 5, '_keep_checkpoint_every_n_hours': 10000, '_log_step_count_steps': 100, '_service': None, '_cluster_spec': <tensorflow.python.training.server_lib.ClusterSpec object at 0x181858ff98>, '_task_type': 'worker', '_task_id': 0, '_master': '', '_is_chief': True, '_num_ps_replicas': 0, '_num_worker_replicas': 1}\n",
      "INFO:tensorflow:Create CheckpointSaverHook.\n",
      "INFO:tensorflow:Saving checkpoints for 1 into /var/folders/21/bmnrxj_s7sb77q_1f047804m0000gp/T/tmp1a_blls0/model.ckpt.\n",
      "INFO:tensorflow:loss = 24.0, step = 1\n",
      "INFO:tensorflow:global_step/sec: 719.709\n",
      "INFO:tensorflow:loss = 0.378254, step = 101 (0.142 sec)\n",
      "INFO:tensorflow:global_step/sec: 885.637\n",
      "INFO:tensorflow:loss = 0.050579, step = 201 (0.114 sec)\n",
      "INFO:tensorflow:global_step/sec: 971.536\n",
      "INFO:tensorflow:loss = 0.00709454, step = 301 (0.102 sec)\n",
      "INFO:tensorflow:global_step/sec: 949.784\n",
      "INFO:tensorflow:loss = 0.00304527, step = 401 (0.106 sec)\n",
      "INFO:tensorflow:global_step/sec: 849.292\n",
      "INFO:tensorflow:loss = 0.00020987, step = 501 (0.114 sec)\n",
      "INFO:tensorflow:global_step/sec: 870.368\n",
      "INFO:tensorflow:loss = 0.000185811, step = 601 (0.116 sec)\n",
      "INFO:tensorflow:global_step/sec: 853.141\n",
      "INFO:tensorflow:loss = 2.78823e-05, step = 701 (0.116 sec)\n",
      "INFO:tensorflow:global_step/sec: 912.809\n",
      "INFO:tensorflow:loss = 9.77767e-06, step = 801 (0.110 sec)\n",
      "INFO:tensorflow:global_step/sec: 1168.8\n",
      "INFO:tensorflow:loss = 1.45684e-06, step = 901 (0.085 sec)\n",
      "INFO:tensorflow:Saving checkpoints for 1000 into /var/folders/21/bmnrxj_s7sb77q_1f047804m0000gp/T/tmp1a_blls0/model.ckpt.\n",
      "INFO:tensorflow:Loss for final step: 2.36874e-07.\n",
      "INFO:tensorflow:Starting evaluation at 2017-12-25-16:46:17\n",
      "INFO:tensorflow:Restoring parameters from /var/folders/21/bmnrxj_s7sb77q_1f047804m0000gp/T/tmp1a_blls0/model.ckpt-1000\n",
      "INFO:tensorflow:Finished evaluation at 2017-12-25-16:46:17\n",
      "INFO:tensorflow:Saving dict for global step 1000: average_loss = 4.59837e-08, global_step = 1000, loss = 2.29918e-07\n",
      "INFO:tensorflow:Starting evaluation at 2017-12-25-16:46:18\n",
      "INFO:tensorflow:Restoring parameters from /var/folders/21/bmnrxj_s7sb77q_1f047804m0000gp/T/tmp1a_blls0/model.ckpt-1000\n",
      "INFO:tensorflow:Finished evaluation at 2017-12-25-16:46:18\n",
      "INFO:tensorflow:Saving dict for global step 1000: average_loss = 0.00254498, global_step = 1000, loss = 0.0127249\n",
      "train metrics: {'average_loss': 4.5983658e-08, 'loss': 2.299183e-07, 'global_step': 1000}\n",
      "eval metrics: {'average_loss': 0.0025449793, 'loss': 0.012724897, 'global_step': 1000}\n"
     ]
    }
   ],
   "source": [
    "##lista de caracteristicas\n",
    "feature_columns = [tf.feature_column.numeric_column(\"x\", shape=[1])]\n",
    "##el modelo a utilizar\n",
    "estimator = tf.estimator.LinearRegressor(feature_columns=feature_columns)\n",
    "\n",
    "## datos de entrenamiento y evaluacion\n",
    "x_train = np.array([1., 2., 3., 4.])\n",
    "y_train = np.array([0., -1., -2., -3.])\n",
    "x_eval = np.array([2., 5., 8., 1.])\n",
    "y_eval = np.array([-1.01, -4.1, -7, 0.])\n",
    "\n",
    "#data de ingreso\n",
    "input_fn = tf.estimator.inputs.numpy_input_fn(\n",
    "    {\"x\": x_train}, y_train, batch_size=5, num_epochs=None, shuffle=True)\n",
    "\n",
    "#evaluar training\n",
    "train_input_fn = tf.estimator.inputs.numpy_input_fn(\n",
    "    {\"x\": x_train}, y_train, batch_size=5, num_epochs=1000, shuffle=False)\n",
    "#evaluar testing\n",
    "eval_input_fn = tf.estimator.inputs.numpy_input_fn(\n",
    "    {\"x\": x_eval}, y_eval, batch_size=5, num_epochs=1000, shuffle=False)\n",
    "\n",
    "##estamos entrenando al modelo\n",
    "estimator.train(input_fn=input_fn, steps=1000)\n",
    "\n",
    "train_metrics = estimator.evaluate(input_fn=train_input_fn)\n",
    "eval_metrics = estimator.evaluate(input_fn=eval_input_fn)\n",
    "print(\"train metrics: %r\"% train_metrics)\n",
    "print(\"eval metrics: %r\"% eval_metrics)"
   ]
  },
  {
   "cell_type": "code",
   "execution_count": 11,
   "metadata": {
    "collapsed": true
   },
   "outputs": [],
   "source": [
    "def model_fn(features, labels, mode):\n",
    "    W = tf.get_variable(\"W\", shape=[1], dtype=tf.float64)\n",
    "    b = tf.get_variable(\"b\", shape=[1], dtype=tf.float64)\n",
    "    \n",
    "    y = W*features['x'] + b\n",
    "    \n",
    "    loss = tf.reduce_sum(tf.square(y-labels))"
   ]
  },
  {
   "cell_type": "code",
   "execution_count": null,
   "metadata": {
    "collapsed": true
   },
   "outputs": [],
   "source": []
  }
 ],
 "metadata": {
  "kernelspec": {
   "display_name": "Python 3",
   "language": "python",
   "name": "python3"
  },
  "language_info": {
   "codemirror_mode": {
    "name": "ipython",
    "version": 3
   },
   "file_extension": ".py",
   "mimetype": "text/x-python",
   "name": "python",
   "nbconvert_exporter": "python",
   "pygments_lexer": "ipython3",
   "version": "3.6.3"
  }
 },
 "nbformat": 4,
 "nbformat_minor": 2
}
