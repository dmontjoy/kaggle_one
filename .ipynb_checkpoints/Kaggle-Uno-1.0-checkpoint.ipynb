{
 "cells": [
  {
   "cell_type": "markdown",
   "metadata": {},
   "source": [
    "# Kaggle Uno"
   ]
  },
  {
   "cell_type": "markdown",
   "metadata": {},
   "source": [
    "## Importar Datos al modelo"
   ]
  },
  {
   "cell_type": "code",
   "execution_count": 1,
   "metadata": {
    "collapsed": true
   },
   "outputs": [],
   "source": [
    "import pandas as pd\n",
    "import numpy as np\n"
   ]
  },
  {
   "cell_type": "code",
   "execution_count": 3,
   "metadata": {},
   "outputs": [
    {
     "name": "stdout",
     "output_type": "stream",
     "text": [
      "Wall time: 1min 2s\n"
     ]
    }
   ],
   "source": [
    "%%time \n",
    "#1mint 7segundos\n",
    "#creando el inidice de clientes 1min 4\n",
    "train_clientes = pd.read_excel('train_clientes.xlsx', sheetname='Sheet1')\n",
    "#train_clientes.reset_index(inplace=True)\n",
    "#train_clientes.set_index('ID_CORRELATIVO', inplace=True)\n",
    "\n",
    "train_requerimiento =  pd.read_excel('train_requerimientos.xlsx', sheetname='Sheet1' )\n",
    "\n",
    "test_clientes = pd.read_excel('test_clientes.xlsx', sheetname='Sheet1')\n",
    "test_requerimiento = pd.read_excel('test_clientes.xlsx', sheetname='Sheet1') \n"
   ]
  },
  {
   "cell_type": "markdown",
   "metadata": {},
   "source": [
    "### Descripción de datos\n",
    "Existen 70 000 datos en Training_clientes. Hay NAN en Edad y Antiguedad. --> Ver como complementar esos datos y ver si son relevantes. \n",
    "Hay más de 10 000 ejemplos, es un buen caso para aplicar redes neuronales.\n",
    "Se podría hacer un proceso sin esos datos y con esos datos.\n",
    "\n",
    "En Train Requerimiento hay 51 517 datos.\n",
    "#### train_clientes.describe()\n",
    "#### train_requerimiento.describe()\n",
    "#### en train_requerimiento hay un dictamen que es null"
   ]
  },
  {
   "cell_type": "markdown",
   "metadata": {},
   "source": [
    "### 1 columna: \n",
    "* RANG_INGRESO, de 1 a 9, ingresos \n",
    "* RANG_SDO_PASIVO_MENOS0 de 1 a 14, saldo en la cuenta\n",
    "* RANG_NRO_PRODUCTOS_MENOS0 de 1  a 6\n",
    "\n",
    "### Varias columnas\n",
    "* SDO_ACTIVO_MENOS0, créditos\n",
    "\n",
    "* FLG_SEGURO_MENOS0, seguros\n",
    "\n",
    "* NRO_ENTID_SSFF_MENOS0\n",
    "\n",
    "* FLG_SDO_OTSSFF_MENOS0, saldo de efectivo\n",
    "\n",
    "* NRO_ACCES_CANAL1_MENOS0\n",
    "\n",
    "* NRO_ACCES_CANAL2_MENOS0\n",
    "\n",
    "* NRO_ACCES_CANAL3_MENOS0\n",
    "\n",
    "* NRO_ACCES_CANAL4_MENOS0\n"
   ]
  },
  {
   "cell_type": "markdown",
   "metadata": {},
   "source": [
    "### Documentacion\n",
    "\n",
    "#### Indexing Slicing\n",
    "http://pandas.pydata.org/pandas-docs/stable/indexing.html#indexing-view-versus-copy"
   ]
  },
  {
   "cell_type": "code",
   "execution_count": null,
   "metadata": {
    "collapsed": true
   },
   "outputs": [],
   "source": [
    "##https://stackoverflow.com/questions/19384532/how-to-count-number-of-rows-in-a-group-in-pandas-group-by-object\n",
    "##train.where(train.groupby(['ID_CORRELATIVO']).agg({'ID_CORRELATIVO':['count']})>2)\n",
    "#train.groupby(['ID_CORRELATIVO']).agg({'ID_CORRELATIVO':['count']})\n",
    "\n",
    "#ordenar\n",
    "#train.sort_values(by='ID_CORRELATIVO')\n",
    "#train_clientes.sort_values(by='ID_CORRELATIVO')\n",
    "#train_trabajo.sort_values(by=['ID_CORRELATIVO'])\n",
    "\n",
    "#train_clientes.head()\n",
    "#group_1=train.groupby(['ID_CORRELATIVO'])\n",
    "#train_clientes.loc[4,['EDAD','CODMES']]\n",
    "\n",
    "##https://stackoverflow.com/questions/24980437/pandas-groupby-and-then-merge-on-original-table\n",
    "#group_1_df=group_1.agg({'cuanto':np.co})\n",
    "#https://pandas.pydata.org/pandas-docs/stable/indexing.html\n"
   ]
  },
  {
   "cell_type": "code",
   "execution_count": 41,
   "metadata": {},
   "outputs": [
    {
     "name": "stdout",
     "output_type": "stream",
     "text": [
      "       ID_CORRELATIVO  CONTAR\n",
      "0                   1       1\n",
      "1                   2       1\n",
      "2                   4       5\n",
      "3                   9       1\n",
      "4                  13       1\n",
      "5                  15       1\n",
      "6                  16       1\n",
      "7                  17       1\n",
      "8                  23       1\n",
      "9                  24       1\n",
      "10                 27       1\n",
      "11                 28       2\n",
      "12                 31       1\n",
      "13                 32       1\n",
      "14                 35       1\n",
      "15                 36       2\n",
      "16                 38       4\n",
      "17                 39       1\n",
      "18                 43       1\n",
      "19                 46       1\n",
      "20                 47       1\n",
      "21                 53       1\n",
      "22                 62       1\n",
      "23                 64       1\n",
      "24                 65       2\n",
      "25                 68       1\n",
      "26                 75       1\n",
      "27                 78       1\n",
      "28                 80       1\n",
      "29                 83       1\n",
      "...               ...     ...\n",
      "34996           99902       1\n",
      "34997           99906       1\n",
      "34998           99907       1\n",
      "34999           99913       1\n",
      "35000           99914       1\n",
      "35001           99918       2\n",
      "35002           99920       5\n",
      "35003           99927       2\n",
      "35004           99929       1\n",
      "35005           99932       1\n",
      "35006           99933       1\n",
      "35007           99941       1\n",
      "35008           99942       1\n",
      "35009           99945       1\n",
      "35010           99949       1\n",
      "35011           99954       1\n",
      "35012           99956       2\n",
      "35013           99962       1\n",
      "35014           99970       1\n",
      "35015           99974       1\n",
      "35016           99977       2\n",
      "35017           99978       1\n",
      "35018           99981       3\n",
      "35019           99982       2\n",
      "35020           99983       2\n",
      "35021           99990       1\n",
      "35022           99993       1\n",
      "35023           99994       1\n",
      "35024           99995       2\n",
      "35025           99996       1\n",
      "\n",
      "[35026 rows x 2 columns]\n"
     ]
    }
   ],
   "source": [
    "aux_1=train_requerimiento.groupby(['ID_CORRELATIVO']).size()\n",
    "aux_1=pd.DataFrame({'CONTAR':aux_1})\n",
    "aux_1.reset_index(inplace=True)\n",
    "###print (aux_1)\n",
    "train_clientes_requerimiento=pd.merge(train_clientes, aux_1, how='outer', on='ID_CORRELATIVO')"
   ]
  },
  {
   "cell_type": "code",
   "execution_count": 5,
   "metadata": {
    "collapsed": true
   },
   "outputs": [],
   "source": [
    "train_clientes_requerimiento['CONTAR'].fillna(value=0, inplace=True)\n",
    "train_trabajo=train_clientes_requerimiento[['ID_CORRELATIVO','CONTAR','ATTRITION']]"
   ]
  },
  {
   "cell_type": "code",
   "execution_count": 7,
   "metadata": {
    "scrolled": true
   },
   "outputs": [],
   "source": [
    "train_trabajo.sort_values(by=['ID_CORRELATIVO'])\n",
    "train_trabajo2= train_trabajo.copy()\n",
    "train_trabajo2[train_trabajo2['CONTAR']>1]=1\n",
    "#train_trabajo.groupby(['ID_CORRELATIVO']).size()\n",
    "#train_trabajo.describe()\n",
    "#train_trabajo[train_trabajo['CONTAR']>1].describe()"
   ]
  },
  {
   "cell_type": "code",
   "execution_count": 30,
   "metadata": {},
   "outputs": [
    {
     "name": "stdout",
     "output_type": "stream",
     "text": [
      "PROCEDE TOTAL\n",
      "NO PROCEDE\n",
      "PROCEDE PARCIAL\n",
      "Solicitud\n",
      "Reclamo\n"
     ]
    }
   ],
   "source": [
    "train_requerimiento.dropna(inplace=True) ## borrando NA\n",
    "train_requerimiento.sort_values(by=['ID_CORRELATIVO','TIPO_REQUERIMIENTO2' ,'CODMES'], inplace=True)\n",
    "#train_reqrimiento\n",
    "\n",
    "for i in pd.unique(train_requerimiento['DICTAMEN']):\n",
    "    print (i)\n",
    "for i in pd.unique(train_requerimiento['TIPO_REQUERIMIENTO2']):\n",
    "    print (i)\n"
   ]
  },
  {
   "cell_type": "code",
   "execution_count": 28,
   "metadata": {},
   "outputs": [
    {
     "data": {
      "text/html": [
       "<div>\n",
       "<style>\n",
       "    .dataframe thead tr:only-child th {\n",
       "        text-align: right;\n",
       "    }\n",
       "\n",
       "    .dataframe thead th {\n",
       "        text-align: left;\n",
       "    }\n",
       "\n",
       "    .dataframe tbody tr th {\n",
       "        vertical-align: top;\n",
       "    }\n",
       "</style>\n",
       "<table border=\"1\" class=\"dataframe\">\n",
       "  <thead>\n",
       "    <tr style=\"text-align: right;\">\n",
       "      <th></th>\n",
       "      <th>ID_CORRELATIVO</th>\n",
       "      <th>TIPO_REQUERIMIENTO2</th>\n",
       "      <th>DICTAMEN</th>\n",
       "      <th>CODMES</th>\n",
       "      <th>PRODUCTO_SERVICIO_2</th>\n",
       "      <th>SUBMOTIVO_2</th>\n",
       "    </tr>\n",
       "  </thead>\n",
       "  <tbody>\n",
       "    <tr>\n",
       "      <th>3359</th>\n",
       "      <td>14709</td>\n",
       "      <td>Reclamo</td>\n",
       "      <td>NaN</td>\n",
       "      <td>201205</td>\n",
       "      <td>Producto 09</td>\n",
       "      <td>Submotivo 125</td>\n",
       "    </tr>\n",
       "  </tbody>\n",
       "</table>\n",
       "</div>"
      ],
      "text/plain": [
       "      ID_CORRELATIVO TIPO_REQUERIMIENTO2 DICTAMEN  CODMES PRODUCTO_SERVICIO_2  \\\n",
       "3359           14709             Reclamo      NaN  201205         Producto 09   \n",
       "\n",
       "        SUBMOTIVO_2  \n",
       "3359  Submotivo 125  "
      ]
     },
     "execution_count": 28,
     "metadata": {},
     "output_type": "execute_result"
    }
   ],
   "source": [
    "train_requerimiento[train_requerimiento['DICTAMEN'].isnull()]"
   ]
  },
  {
   "cell_type": "code",
   "execution_count": null,
   "metadata": {},
   "outputs": [],
   "source": [
    "group_reclamo = train_requerimiento.groupby(['ID_CORRELATIVO','TIPO_REQUERIMIENTO2','DICTAMEN'])\n"
   ]
  },
  {
   "cell_type": "code",
   "execution_count": null,
   "metadata": {},
   "outputs": [],
   "source": [
    "for group, frame in group_reclamo:\n",
    "    print (group)"
   ]
  },
  {
   "cell_type": "code",
   "execution_count": null,
   "metadata": {
    "collapsed": true
   },
   "outputs": [],
   "source": [
    "group_reclamo"
   ]
  },
  {
   "cell_type": "code",
   "execution_count": null,
   "metadata": {
    "collapsed": true
   },
   "outputs": [],
   "source": [
    "train_requerimiento"
   ]
  },
  {
   "cell_type": "code",
   "execution_count": null,
   "metadata": {
    "collapsed": true
   },
   "outputs": [],
   "source": [
    "print (\"hola\")"
   ]
  },
  {
   "cell_type": "code",
   "execution_count": null,
   "metadata": {
    "collapsed": true
   },
   "outputs": [],
   "source": []
  }
 ],
 "metadata": {
  "kernelspec": {
   "display_name": "Python 3",
   "language": "python",
   "name": "python3"
  },
  "language_info": {
   "codemirror_mode": {
    "name": "ipython",
    "version": 3
   },
   "file_extension": ".py",
   "mimetype": "text/x-python",
   "name": "python",
   "nbconvert_exporter": "python",
   "pygments_lexer": "ipython3",
   "version": "3.6.1"
  }
 },
 "nbformat": 4,
 "nbformat_minor": 2
}
