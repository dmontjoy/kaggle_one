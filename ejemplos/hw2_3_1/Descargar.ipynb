{
 "cells": [
  {
   "cell_type": "code",
   "execution_count": 1,
   "metadata": {},
   "outputs": [
    {
     "name": "stdout",
     "output_type": "stream",
     "text": [
      "Descargar.ipynb\n",
      "Tensorflow Tutorial daniel.ipynb\n",
      "Tensorflow Tutorial.ipynb\n",
      "__pycache__/\n",
      "__pycache__/tf_utils.cpython-36.pyc\n",
      "datasets/\n",
      "datasets/train_signs.h5\n",
      "datasets/test_signs.h5\n",
      "images/\n",
      "images/onehot.png\n",
      "images/thumbs_up.jpg\n",
      "images/hands.png\n",
      "improv_utils.py\n",
      "tf_utils.py\n"
     ]
    }
   ],
   "source": [
    "!tar cvfz hw3_3_1.tar.gz * "
   ]
  },
  {
   "cell_type": "code",
   "execution_count": null,
   "metadata": {
    "collapsed": true
   },
   "outputs": [],
   "source": []
  }
 ],
 "metadata": {
  "kernelspec": {
   "display_name": "Python 3",
   "language": "python",
   "name": "python3"
  },
  "language_info": {
   "codemirror_mode": {
    "name": "ipython",
    "version": 3
   },
   "file_extension": ".py",
   "mimetype": "text/x-python",
   "name": "python",
   "nbconvert_exporter": "python",
   "pygments_lexer": "ipython3",
   "version": "3.6.0"
  }
 },
 "nbformat": 4,
 "nbformat_minor": 2
}
