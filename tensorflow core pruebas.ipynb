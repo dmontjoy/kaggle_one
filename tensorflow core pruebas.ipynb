{
 "cells": [
  {
   "cell_type": "code",
   "execution_count": 6,
   "metadata": {
    "collapsed": true
   },
   "outputs": [],
   "source": [
    "import numpy as np\n",
    "import tensorflow as tf"
   ]
  },
  {
   "cell_type": "code",
   "execution_count": 7,
   "metadata": {
    "collapsed": true
   },
   "outputs": [],
   "source": [
    "\n",
    "### variable que quiero averiguar el valor\n",
    "w = tf.Variable(0,dtype=tf.float32)\n",
    "### training data puede cambiar\n",
    "x = tf.placeholder(tf.float32,[3,1])\n",
    "### se ha defindo la funcion a optimizar\n",
    "cost = x[0][0]*w**2 + x[1][0]*w + x[2][0]\n",
    "#cost = w**2 -10*w+25\n",
    "#cost = tf.add(tf.add(w**2,tf.multiply(-10.,w)),25.)\n",
    "###learning algorithm\n",
    "coefficient = np.array([[1.],[-20.],[100.]])\n",
    "train = tf.train.GradientDescentOptimizer(0.01).minimize(cost)"
   ]
  },
  {
   "cell_type": "code",
   "execution_count": 8,
   "metadata": {},
   "outputs": [
    {
     "name": "stdout",
     "output_type": "stream",
     "text": [
      "0.0\n"
     ]
    }
   ],
   "source": [
    "init = tf.global_variables_initializer()\n",
    "session = tf.Session()\n",
    "session.run(init)\n",
    "print (session.run(w))\n",
    "session.close()"
   ]
  },
  {
   "cell_type": "code",
   "execution_count": 9,
   "metadata": {
    "collapsed": true
   },
   "outputs": [],
   "source": [
    "#session.run(train, feed_dict={x:coefficient})\n",
    "#print (session.run(w))"
   ]
  },
  {
   "cell_type": "code",
   "execution_count": 11,
   "metadata": {},
   "outputs": [
    {
     "name": "stdout",
     "output_type": "stream",
     "text": [
      "hola\n"
     ]
    }
   ],
   "source": [
    "print (\"hola\")"
   ]
  },
  {
   "cell_type": "code",
   "execution_count": 12,
   "metadata": {},
   "outputs": [
    {
     "name": "stdout",
     "output_type": "stream",
     "text": [
      "[[ 103.]]\n"
     ]
    }
   ],
   "source": [
    "a = tf.Variable([[9,19]],dtype=tf.float32)\n",
    "b = tf.Variable([[3,4]],dtype=tf.float32)\n",
    "b= tf.transpose(b)\n",
    "c = tf.matmul(a,b)\n",
    "init = tf.global_variables_initializer()\n",
    "session = tf.Session()\n",
    "session.run(init)\n",
    "print (session.run(c))\n",
    "session.close()"
   ]
  },
  {
   "cell_type": "markdown",
   "metadata": {},
   "source": [
    "Here that's because the cost function tf.nn.softmax_cross_entropy_with_logits applies the softmax for you on your input before calculating the cost.\n",
    "\n",
    "Other example, if your last activation was a sigmoid, you would calculate the cost by passing Z3 to tf.nn.sigmoid_cross_entropy_with_logits."
   ]
  },
  {
   "cell_type": "code",
   "execution_count": 17,
   "metadata": {},
   "outputs": [
    {
     "name": "stdout",
     "output_type": "stream",
     "text": [
      "[array([  5. ,  10.5], dtype=float32), array([ 16.  ,  72.25], dtype=float32)]\n"
     ]
    }
   ],
   "source": [
    "a = tf.Variable([[9,19],[1,2]],dtype=tf.float32)\n",
    "#b = tf.Variable([[3,4]],dtype=tf.float32)\n",
    "#b= tf.transpose(b)\n",
    "#c = tf.matmul(a,b)\n",
    "#[1], el calculo ah sido horizontal\n",
    "mean, variance = tf.nn.moments(a, [0])\n",
    "init = tf.global_variables_initializer()\n",
    "session = tf.Session()\n",
    "session.run(init)\n",
    "print (session.run([mean, variance]))\n",
    "session.close()"
   ]
  },
  {
   "cell_type": "code",
   "execution_count": 15,
   "metadata": {},
   "outputs": [
    {
     "name": "stdout",
     "output_type": "stream",
     "text": [
      "hola\n"
     ]
    }
   ],
   "source": [
    "print (\"hola\")"
   ]
  },
  {
   "cell_type": "code",
   "execution_count": null,
   "metadata": {
    "collapsed": true
   },
   "outputs": [],
   "source": []
  }
 ],
 "metadata": {
  "kernelspec": {
   "display_name": "Python 3",
   "language": "python",
   "name": "python3"
  },
  "language_info": {
   "codemirror_mode": {
    "name": "ipython",
    "version": 3
   },
   "file_extension": ".py",
   "mimetype": "text/x-python",
   "name": "python",
   "nbconvert_exporter": "python",
   "pygments_lexer": "ipython3",
   "version": "3.6.1"
  }
 },
 "nbformat": 4,
 "nbformat_minor": 2
}
