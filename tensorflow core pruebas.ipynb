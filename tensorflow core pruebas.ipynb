{
 "cells": [
  {
   "cell_type": "code",
   "execution_count": 2,
   "metadata": {
    "collapsed": true
   },
   "outputs": [],
   "source": [
    "import numpy as np\n",
    "import tensorflow as tf"
   ]
  },
  {
   "cell_type": "code",
   "execution_count": 7,
   "metadata": {
    "collapsed": true
   },
   "outputs": [],
   "source": [
    "\n",
    "### variable que quiero averiguar el valor\n",
    "w = tf.Variable(0,dtype=tf.float32)\n",
    "### training data puede cambiar\n",
    "x = tf.placeholder(tf.float32,[3,1])\n",
    "### se ha defindo la funcion a optimizar\n",
    "cost = x[0][0]*w**2 + x[1][0]*w + x[2][0]\n",
    "#cost = w**2 -10*w+25\n",
    "#cost = tf.add(tf.add(w**2,tf.multiply(-10.,w)),25.)\n",
    "###learning algorithm\n",
    "coefficient = np.array([[1.],[-20.],[100.]])\n",
    "train = tf.train.GradientDescentOptimizer(0.01).minimize(cost)"
   ]
  },
  {
   "cell_type": "code",
   "execution_count": 8,
   "metadata": {},
   "outputs": [
    {
     "name": "stdout",
     "output_type": "stream",
     "text": [
      "0.0\n"
     ]
    }
   ],
   "source": [
    "init = tf.global_variables_initializer()\n",
    "session = tf.Session()\n",
    "session.run(init)\n",
    "print (session.run(w))\n",
    "session.close()"
   ]
  },
  {
   "cell_type": "code",
   "execution_count": 9,
   "metadata": {
    "collapsed": true
   },
   "outputs": [],
   "source": [
    "#session.run(train, feed_dict={x:coefficient})\n",
    "#print (session.run(w))"
   ]
  },
  {
   "cell_type": "code",
   "execution_count": 11,
   "metadata": {},
   "outputs": [
    {
     "name": "stdout",
     "output_type": "stream",
     "text": [
      "hola\n"
     ]
    }
   ],
   "source": [
    "print (\"hola\")"
   ]
  },
  {
   "cell_type": "code",
   "execution_count": 12,
   "metadata": {},
   "outputs": [
    {
     "name": "stdout",
     "output_type": "stream",
     "text": [
      "[[ 103.]]\n"
     ]
    }
   ],
   "source": [
    "a = tf.Variable([[9,19]],dtype=tf.float32)\n",
    "b = tf.Variable([[3,4]],dtype=tf.float32)\n",
    "b= tf.transpose(b)\n",
    "c = tf.matmul(a,b)\n",
    "init = tf.global_variables_initializer()\n",
    "session = tf.Session()\n",
    "session.run(init)\n",
    "print (session.run(c))\n",
    "session.close()"
   ]
  },
  {
   "cell_type": "markdown",
   "metadata": {},
   "source": [
    "Here that's because the cost function tf.nn.softmax_cross_entropy_with_logits applies the softmax for you on your input before calculating the cost.\n",
    "\n",
    "Other example, if your last activation was a sigmoid, you would calculate the cost by passing Z3 to tf.nn.sigmoid_cross_entropy_with_logits."
   ]
  },
  {
   "cell_type": "code",
   "execution_count": 10,
   "metadata": {},
   "outputs": [
    {
     "name": "stdout",
     "output_type": "stream",
     "text": [
      "[[  8.73996969e-03   1.05678858e-02  -9.23215318e-03  -9.32172593e-03\n",
      "   -6.69479417e-03  -1.17633473e-02  -5.30192675e-03  -4.38536331e-03\n",
      "    6.66569860e-04   7.92465347e-04  -6.11882657e-04   7.70184444e-03]\n",
      " [  3.77174816e-03  -6.51985547e-03   1.59480777e-02   2.25506048e-03\n",
      "   -2.10706107e-02  -3.17196897e-03   9.60501749e-03  -2.67470110e-04\n",
      "   -8.32653511e-03  -1.83024332e-02  -2.54937243e-02   1.96095500e-02]\n",
      " [ -7.62235280e-03   6.38099806e-03  -5.82363410e-03   8.08307203e-04\n",
      "    1.01146922e-02   1.51319988e-02   4.71382821e-03  -1.44282100e-03\n",
      "    5.42453630e-03  -2.92762066e-03  -1.24056991e-02  -1.25840437e-04]\n",
      " [ -1.80265959e-02   1.67799797e-02   9.44588520e-03  -1.68002881e-02\n",
      "   -5.34243323e-03  -1.89022049e-02   1.92075856e-02  -5.11712348e-03\n",
      "    4.77585522e-03   3.96595104e-03  -2.79768300e-03  -4.22056951e-03]\n",
      " [ -2.82886438e-04   8.24507006e-05   1.05486996e-03  -1.23713575e-02\n",
      "   -2.42879521e-03   2.98241823e-04   1.47416710e-03  -5.54098887e-03\n",
      "   -1.02092829e-02  -5.43168606e-03   1.78879444e-02   1.59512386e-02]\n",
      " [ -1.36184469e-02  -2.61357427e-02   9.32288077e-03   8.76613520e-03\n",
      "    1.04359956e-02  -3.14871571e-03  -2.67133024e-03   6.11703517e-03\n",
      "   -1.56680234e-02   7.27109332e-03  -4.28228080e-03  -1.38879968e-02]\n",
      " [  7.79538695e-03   6.26262231e-03   1.60856936e-02   5.17752627e-03\n",
      "    1.22402664e-02  -9.27373953e-03  -1.38018010e-02  -2.07187589e-02\n",
      "    8.95104371e-04   1.45526826e-02  -1.46768345e-02   2.02429872e-02]\n",
      " [ -1.90555304e-03  -2.61504594e-02  -1.40762199e-02  -3.48506495e-04\n",
      "   -7.10214605e-04  -2.60896655e-03  -1.94198843e-02   6.54680980e-03\n",
      "   -4.56544198e-03   1.48320349e-03  -1.59273446e-02  -1.13377962e-02]\n",
      " [ -3.87456594e-03  -1.67054255e-02  -1.13098919e-02  -6.93189492e-03\n",
      "    3.50102922e-03  -3.83134931e-03   2.45609344e-03  -1.56133389e-02\n",
      "    2.40193494e-03  -1.54586211e-02  -1.85579490e-02  -4.34422074e-03]\n",
      " [ -1.00561613e-02   2.53761373e-03  -1.10721877e-02   2.14502700e-02\n",
      "   -1.13676684e-02  -3.81333288e-03  -1.17102228e-02   5.14651509e-03\n",
      "   -2.32262048e-03   2.22636256e-02   2.77666212e-03  -8.59549968e-04]\n",
      " [  1.07732276e-02  -2.16181092e-02  -3.41105787e-03   7.48040807e-03\n",
      "   -7.63981417e-03  -1.02837812e-02  -9.40196216e-03   2.76406412e-03\n",
      "    1.60422698e-02   9.71078966e-03   1.51688922e-02   5.38116042e-03]\n",
      " [ -5.72675839e-03  -7.48243928e-03  -3.96588026e-03  -9.68803279e-03\n",
      "    3.73591203e-03  -3.24357208e-03   1.62050277e-02  -2.63958122e-03\n",
      "    2.27951575e-02   5.03723416e-03  -4.96949768e-03  -4.96278796e-03]\n",
      " [ -4.40869341e-03  -1.13021946e-02  -3.58806993e-03  -1.91682763e-02\n",
      "   -5.38119627e-03  -6.15812931e-03  -3.19205294e-03  -9.45306197e-03\n",
      "    1.42647810e-02   7.41927419e-03   8.50410759e-03  -1.31414151e-02]\n",
      " [  1.72042684e-03  -1.64459727e-03  -9.51514021e-03  -6.91522984e-03\n",
      "    2.16987487e-02   1.61875635e-02  -8.89349822e-03   3.26831290e-03\n",
      "    2.30130297e-03   1.04449214e-02   9.64540988e-03  -8.25535692e-03]\n",
      " [  4.30819811e-03  -1.02433302e-02  -9.33651626e-03  -5.67120966e-04\n",
      "   -7.75340130e-04   1.04784118e-02  -6.00746833e-03   2.07495950e-02\n",
      "    1.12071317e-02   2.82365642e-03   6.11662911e-03   1.25967572e-03]\n",
      " [  2.17464240e-03   8.40751221e-04   2.73110718e-03   2.24874401e-03\n",
      "   -3.04330210e-03  -2.80669401e-03   4.00544237e-03  -2.82710418e-02\n",
      "    1.04620047e-02   1.31751420e-02  -1.70019548e-02   1.69669488e-03]\n",
      " [  4.48590703e-03  -5.87014668e-03  -1.38854673e-02  -6.55468693e-03\n",
      "   -3.60645098e-03  -2.55113263e-02   5.44230221e-04  -1.59171745e-02\n",
      "    2.76018563e-03   8.96854140e-03  -2.01417110e-03  -6.66515622e-03]\n",
      " [  9.53477994e-03   1.29798185e-02  -2.02299352e-03   3.85512016e-03\n",
      "    2.45983456e-03   9.38405283e-03   9.46801994e-03  -9.70499963e-03\n",
      "   -6.69795554e-03  -4.19420470e-03  -5.30923391e-03   1.32334011e-04]\n",
      " [ -8.87680147e-03  -6.21245243e-03   8.95387866e-03  -4.55763051e-03\n",
      "    5.13615739e-03  -3.16109508e-03   4.02322132e-03   5.69292437e-03\n",
      "    9.53507610e-04   6.83957525e-03  -9.10176523e-03   2.35046362e-04]\n",
      " [  8.39618873e-03   1.07060233e-02  -1.69814117e-02  -1.99159444e-03\n",
      "   -2.04826472e-03  -8.73529539e-03  -7.32342945e-04  -5.19955670e-03\n",
      "    2.30204882e-04  -2.67366506e-03   6.46214467e-03  -4.32211935e-04]\n",
      " [  3.40755912e-04   5.40896412e-03  -9.13942326e-03  -1.50483744e-02\n",
      "    6.37434470e-03  -1.62162853e-03  -2.81152781e-04   3.51648964e-03\n",
      "    4.52268543e-03   1.05349738e-02  -8.90186243e-03   1.61013044e-02]\n",
      " [ -3.72889545e-03   3.83165991e-03  -2.94150203e-04  -1.29859464e-03\n",
      "   -1.25728892e-02  -7.74868019e-03   6.81347679e-03   9.77657735e-03\n",
      "    5.46783581e-03  -1.31102642e-02   1.06862094e-02  -1.60046166e-03]\n",
      " [  6.60091685e-03   1.72231123e-02   1.03787135e-03  -4.52421885e-03\n",
      "    2.69241747e-03  -5.79938944e-03  -6.18157163e-03   1.96971484e-02\n",
      "    2.07359064e-03   2.63558445e-03  -2.43169088e-02   9.94355045e-03]\n",
      " [ -1.11538665e-02   1.95497437e-03  -5.42541454e-03   1.25189754e-03\n",
      "    2.40335260e-02  -6.00651780e-04  -2.52098441e-02  -5.19838883e-03\n",
      "   -3.38141783e-03  -8.78638495e-03  -1.39758708e-02  -7.08098570e-03]\n",
      " [  7.40935910e-04   1.02869337e-02   1.38738751e-03   2.69327033e-03\n",
      "    1.10915424e-02   6.60217507e-03   1.34935696e-02   5.80944167e-03\n",
      "   -3.94602213e-03  -5.59463399e-03  -1.22013772e-02   1.08297262e-03]]\n"
     ]
    }
   ],
   "source": [
    "#a = tf.Variable([[9,19],[1,2]],dtype=tf.float32)\n",
    "a =  tf.Variable(np.random.randn(25, 12)*0.01,dtype=tf.float32,name=\"a\")\n",
    "#b = tf.Variable([[3,4]],dtype=tf.float32)\n",
    "#b= tf.transpose(b)\n",
    "#c = tf.matmul(a,b)\n",
    "#[1], el calculo ah sido horizontal\n",
    "mean, variance = tf.nn.moments(a, [0])\n",
    "init = tf.global_variables_initializer()\n",
    "session = tf.Session()\n",
    "session.run(init)\n",
    "#print (session.run([mean, variance]))\n",
    "print (session.run(a))\n",
    "session.close()"
   ]
  },
  {
   "cell_type": "code",
   "execution_count": 9,
   "metadata": {},
   "outputs": [
    {
     "name": "stdout",
     "output_type": "stream",
     "text": [
      "hola\n"
     ]
    }
   ],
   "source": [
    "print (\"hola\")"
   ]
  },
  {
   "cell_type": "code",
   "execution_count": null,
   "metadata": {
    "collapsed": true
   },
   "outputs": [],
   "source": []
  }
 ],
 "metadata": {
  "kernelspec": {
   "display_name": "Python 3",
   "language": "python",
   "name": "python3"
  },
  "language_info": {
   "codemirror_mode": {
    "name": "ipython",
    "version": 3
   },
   "file_extension": ".py",
   "mimetype": "text/x-python",
   "name": "python",
   "nbconvert_exporter": "python",
   "pygments_lexer": "ipython3",
   "version": "3.6.1"
  }
 },
 "nbformat": 4,
 "nbformat_minor": 2
}
